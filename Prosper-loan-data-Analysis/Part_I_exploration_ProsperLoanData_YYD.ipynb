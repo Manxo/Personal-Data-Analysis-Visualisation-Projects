{
 "cells": [
  {
   "attachments": {
    "image.png": {
     "image/png": "[encoded data removed]"
    }
   },
   "cell_type": "markdown",
   "metadata": {},
   "source": [
    "# Part I - The Prosper Loan Data Analysis\n",
    "## by Yahaya Yusuf Danladi\n",
    "\n",
    "## Introduction\n",
    "\n",
    "#### PROSPER LOAN AND HOW IT WORKS\n",
    "\n",
    "Prosper is an online peer-to-peer lending marketplace, where creditworthy borrowers can request a loan and investors can invest in “notes” (or portions) of each loan.\n",
    "\n",
    "After a borrower accepts their loan offer, Prosper may verify their application information. Upon borrower acceptance, investors have up to 14 days to commit funds to the loan through their Prosper account. Once a borrower passes any additional verification requirements and one or more investor(s) commit enough funds to the loan it's ready for origination.\n",
    "\n",
    "Loans through Prosper are amortized, meaning borrowers make fixed monthly payments throughout the duration of their 3- or 5-year term. Each payment is comprised of principal, interest, and any applicable fees. Investors receive a portion of those payments that are proportional to their pro rata share of the loan. These funds are deposited directly into investors' Prosper Accounts.\n",
    "\n",
    "As with any debt, there's always the risk that a borrower can default on their loan, which could result in a loss for the investor(s) who invested in the loan. Loans are unsecured obligations, meaning they are not secured by any collateral of the borrower. To assess the risk of each loan before committing funds, investors should review the loan request details and the Prospectus.\n",
    "\n",
    "Prosper Ratings allow potential investors to easily consider a loan application's level of risk because the rating represents an estimated average annualized loss rate range to the investor.\n",
    "\n",
    "**Prosper Rating \tEstimated Avg. Annual Loss Rate**\n",
    "![image.png](attachment:image.png)\n",
    "\n",
    "\n",
    "\n",
    "\n",
    "[Learn about Prosper's loan system](https://www.prosper.com/)\n",
    "\n",
    "## Preliminary Wrangling"
   ]
  },
  {
   "cell_type": "code",
   "execution_count": 30,
   "metadata": {},
   "outputs": [],
   "source": [
    "# import all packages and set plots to be embedded inline\n",
    "import os\n",
    "import numpy as np\n",
    "import pandas as pd\n",
    "import matplotlib.pyplot as plt\n",
    "import seaborn as sb\n",
    "\n",
    "%matplotlib inline"
   ]
  },
  {
   "cell_type": "code",
   "execution_count": 22,
   "metadata": {},
   "outputs": [],
   "source": [
    "df_loan = pd.read_csv('ProsperLoanData.csv')"
   ]
  },
  {
   "cell_type": "code",
   "execution_count": 23,
   "metadata": {},
   "outputs": [
    {
     "data": {
      "text/plain": [
       "43"
      ]
     },
     "execution_count": 23,
     "metadata": {},
     "output_type": "execute_result"
    }
   ],
   "source": [
    "sum(df_loan.isna().any())"
   ]
  },
  {
   "cell_type": "code",
   "execution_count": 24,
   "metadata": {},
   "outputs": [
    {
     "data": {
      "text/plain": [
       "True"
      ]
     },
     "execution_count": 24,
     "metadata": {},
     "output_type": "execute_result"
    }
   ],
   "source": [
    "df_loan.isna().any().any()"
   ]
  },
  {
   "cell_type": "code",
   "execution_count": null,
   "metadata": {},
   "outputs": [],
   "source": [
    "df_loan.head()"
   ]
  },
  {
   "cell_type": "code",
   "execution_count": null,
   "metadata": {
    "scrolled": true
   },
   "outputs": [],
   "source": [
    "df_loan.info()"
   ]
  },
  {
   "cell_type": "code",
   "execution_count": null,
   "metadata": {},
   "outputs": [],
   "source": [
    "sum(df_loan.duplicated())"
   ]
  },
  {
   "cell_type": "code",
   "execution_count": 25,
   "metadata": {},
   "outputs": [
    {
     "data": {
      "text/plain": [
       "ListingKey                         0\n",
       "ListingNumber                      0\n",
       "ListingCreationDate                0\n",
       "CreditGrade                    84984\n",
       "Term                               0\n",
       "                               ...  \n",
       "PercentFunded                      0\n",
       "Recommendations                    0\n",
       "InvestmentFromFriendsCount         0\n",
       "InvestmentFromFriendsAmount        0\n",
       "Investors                          0\n",
       "Length: 81, dtype: int64"
      ]
     },
     "execution_count": 25,
     "metadata": {},
     "output_type": "execute_result"
    }
   ],
   "source": [
    "df_loan.isna().sum()"
   ]
  },
  {
   "cell_type": "code",
   "execution_count": null,
   "metadata": {},
   "outputs": [],
   "source": [
    "df_loan.describe()"
   ]
  },
  {
   "cell_type": "code",
   "execution_count": null,
   "metadata": {
    "scrolled": true
   },
   "outputs": [],
   "source": [
    "df_loan.shape"
   ]
  },
  {
   "cell_type": "markdown",
   "metadata": {},
   "source": [
    "### Data Issues\n",
    "    1. There alot of missing values especially in \"CreditGrade\" column.\n",
    "    2. Some columns name aren't proper e.g \"ProsperRating (numeric)\".\n",
    "    3. Date column are not in datetime format."
   ]
  },
  {
   "cell_type": "markdown",
   "metadata": {},
   "source": [
    "### The Clean-up\n",
    "To Clean up this Qualty and Tidiness issues, we are going to\n",
    "1. Load only columns necessary for this analysis to a new dataframe called \"df\".\n",
    "2. Drop rows with missing values.\n",
    "3. Change date column to appropriate type (datetime)."
   ]
  },
  {
   "cell_type": "code",
   "execution_count": 26,
   "metadata": {},
   "outputs": [],
   "source": [
    "#Load only Relevant (selected) fields\n",
    "fields=['Term','BorrowerAPR','BorrowerRate','ProsperRating (numeric)','ProsperRating (Alpha)','ProsperScore','Occupation',\n",
    "        'EmploymentStatus','IsBorrowerHomeowner','CurrentlyInGroup','DateCreditPulled','CurrentCreditLines',\n",
    "       'TotalCreditLinespast7years','TotalInquiries','AmountDelinquent','DelinquenciesLast7Years',\n",
    "       'AvailableBankcardCredit','DebtToIncomeRatio','LoanStatus','IncomeRange','LoanNumber','LoanOriginalAmount',\n",
    "       'LoanOriginationDate','LoanOriginationQuarter','MonthlyLoanPayment','PercentFunded','Recommendations',\n",
    "       'InvestmentFromFriendsCount','InvestmentFromFriendsAmount','Investors']\n",
    "\n",
    "df = pd.read_csv('ProsperLoanData.csv', skipinitialspace=True, usecols=fields)"
   ]
  },
  {
   "cell_type": "code",
   "execution_count": 31,
   "metadata": {},
   "outputs": [],
   "source": [
    "# Drop rows with missing value\n",
    "df.dropna(inplace=True)"
   ]
  },
  {
   "cell_type": "code",
   "execution_count": 28,
   "metadata": {},
   "outputs": [],
   "source": [
    "# Rename some columns\n",
    "df.rename(columns = {'ProsperRating (numeric)':'ProsperRatingNumeric','ProsperRating (Alpha)':'ProsperRatingAlpha'}, inplace = True)"
   ]
  },
  {
   "cell_type": "code",
   "execution_count": 29,
   "metadata": {},
   "outputs": [],
   "source": [
    "# Convert date fields to datetime format\n",
    "df['DateCreditPulled'] = pd.to_datetime(df['DateCreditPulled'])\n",
    "df['LoanOriginationDate'] = pd.to_datetime(df['LoanOriginationDate'])"
   ]
  },
  {
   "cell_type": "code",
   "execution_count": 8,
   "metadata": {},
   "outputs": [
    {
     "name": "stdout",
     "output_type": "stream",
     "text": [
      "<class 'pandas.core.frame.DataFrame'>\n",
      "Int64Index: 76224 entries, 1 to 113936\n",
      "Data columns (total 30 columns):\n",
      " #   Column                       Non-Null Count  Dtype         \n",
      "---  ------                       --------------  -----         \n",
      " 0   Term                         76224 non-null  int64         \n",
      " 1   LoanStatus                   76224 non-null  object        \n",
      " 2   BorrowerAPR                  76224 non-null  float64       \n",
      " 3   BorrowerRate                 76224 non-null  float64       \n",
      " 4   ProsperRatingNumeric         76224 non-null  float64       \n",
      " 5   ProsperRatingAlpha           76224 non-null  object        \n",
      " 6   ProsperScore                 76224 non-null  float64       \n",
      " 7   Occupation                   76224 non-null  object        \n",
      " 8   EmploymentStatus             76224 non-null  object        \n",
      " 9   IsBorrowerHomeowner          76224 non-null  bool          \n",
      " 10  CurrentlyInGroup             76224 non-null  bool          \n",
      " 11  DateCreditPulled             76224 non-null  object        \n",
      " 12  CurrentCreditLines           76224 non-null  float64       \n",
      " 13  TotalCreditLinespast7years   76224 non-null  float64       \n",
      " 14  TotalInquiries               76224 non-null  float64       \n",
      " 15  AmountDelinquent             76224 non-null  float64       \n",
      " 16  DelinquenciesLast7Years      76224 non-null  float64       \n",
      " 17  AvailableBankcardCredit      76224 non-null  float64       \n",
      " 18  DebtToIncomeRatio            76224 non-null  float64       \n",
      " 19  IncomeRange                  76224 non-null  object        \n",
      " 20  LoanNumber                   76224 non-null  int64         \n",
      " 21  LoanOriginalAmount           76224 non-null  int64         \n",
      " 22  LoanOriginationDate          76224 non-null  datetime64[ns]\n",
      " 23  LoanOriginationQuarter       76224 non-null  object        \n",
      " 24  MonthlyLoanPayment           76224 non-null  float64       \n",
      " 25  PercentFunded                76224 non-null  float64       \n",
      " 26  Recommendations              76224 non-null  int64         \n",
      " 27  InvestmentFromFriendsCount   76224 non-null  int64         \n",
      " 28  InvestmentFromFriendsAmount  76224 non-null  float64       \n",
      " 29  Investors                    76224 non-null  int64         \n",
      "dtypes: bool(2), datetime64[ns](1), float64(14), int64(6), object(7)\n",
      "memory usage: 17.0+ MB\n"
     ]
    }
   ],
   "source": [
    "df.info()"
   ]
  },
  {
   "cell_type": "code",
   "execution_count": 6,
   "metadata": {},
   "outputs": [
    {
     "data": {
      "text/plain": [
       "(76224, 30)"
      ]
     },
     "execution_count": 6,
     "metadata": {},
     "output_type": "execute_result"
    }
   ],
   "source": [
    "df.shape"
   ]
  },
  {
   "cell_type": "markdown",
   "metadata": {},
   "source": [
    "### What is the structure of your dataset?\n",
    "\n",
    "Originality the dataset contains a total of 113,937 entries(rows) and 81 colums, 61 columns contains numerical data, while quite a number of rows have missing values. However we find it necessary to work only with 30 relevant columns that are of interest to our analysis and also drop some rows due to missiong values, so, we end up working with 76,224 rows and 30 columns. \n",
    "\n",
    "### What is/are the main feature(s) of interest in your dataset?\n",
    "\n",
    "In this dataset, the major features of interest that we will be focusing on in this analysis to establish relationships and draw insights are:\n",
    "\n",
    "    1. ProsperRating (numeric)\n",
    "    2. IsBorrowerHomeowner: A Borrower will be classified as homowner if they have a mortgage on their credit profile.\n",
    "    3. InvestmentFromFriendsAmount: Dollar amount of investments that were made by friends.\n",
    "    4. Investors: The number of investors that funded the loan.\n",
    "    \n",
    "This will help us see if home owners collects loans more, how likely it is for friend to invest in the loans and if belong to a groups or society has any influence in securing loan.\n",
    "\n",
    "### What features in the dataset do you think will help support your investigation into your feature(s) of interest?\n",
    "\n",
    " Other features that can help us gain better understanding of these feature of interest includes:\n",
    "\n",
    "    1. Term: The length of the loan expressed in months.\n",
    "    2. BorrowerRate: The Borrower's interest rate for this loan. \n",
    "    3. ProsperScore: A custom risk score built using historical Prosper data.\n",
    "    4. Occupation: The Occupation selected by the Borrower at the time they created the listing.\n",
    "    5. EmploymentStatus: The employment status of the borrower at the time they posted the listing.\n",
    "    6. CurrentlyInGroup: Specifies whether or not the Borrower was in a group at the time the listing was created.\n",
    "    7. CurrentCreditLines: Number of current credit lines at the time the credit profile was pulled.\n",
    "    8. DebtToIncomeRatio: The debt to income ratio of the borrower at the time the credit profile was pulled.\n",
    "    9. IncomeRange: The income range of the borrower at the time the listing was created.\n",
    "    10. LoanOriginationQuarter: The quarter in which the loan was originated.\n",
    "    11. MonthlyLoanPayment: The scheduled monthly loan payment.\n",
    "    12. PercentFunded: Percent the listing was funded.\n",
    "    13. Recommendations: Number of recommendations the borrower had at the time the listing was created.\n",
    "    14. InvestmentFromFriendsCount: Number of friends that made an investment in the loan.\n"
   ]
  },
  {
   "cell_type": "markdown",
   "metadata": {},
   "source": [
    "## Univariate Exploration"
   ]
  },
  {
   "cell_type": "markdown",
   "metadata": {},
   "source": [
    "### Question 1: What Percentage of borrowers are Homeowners?"
   ]
  },
  {
   "cell_type": "code",
   "execution_count": 18,
   "metadata": {
    "scrolled": true
   },
   "outputs": [
    {
     "data": {
      "image/png": "[encoded data removed]",
      "text/plain": [
       "<Figure size 1080x360 with 1 Axes>"
      ]
     },
     "metadata": {
      "needs_background": "light"
     },
     "output_type": "display_data"
    }
   ],
   "source": [
    "import warnings\n",
    "warnings.simplefilter(action=\"ignore\", category=FutureWarning)\n",
    "\n",
    "def without_hue(plot, feature):\n",
    "    total = len(feature)\n",
    "    for p in ax.patches:\n",
    "        percentage = '{:.1f}%'.format(100 * p.get_height()/total)\n",
    "        x = p.get_x() + p.get_width() / 2 - 0.05\n",
    "        y = p.get_y() + p.get_height()\n",
    "        ax.annotate(percentage, (x, y), size = 12)\n",
    "    plt.show()\n",
    "    \n",
    "\n",
    "base_color = sb.color_palette()[0]\n",
    "plt.figure(figsize = (15,5))\n",
    "ax = sb.countplot('IsBorrowerHomeowner', data = df, color=base_color)\n",
    "plt.title('Distribution of Borrowers who are Homeowners', size = 12)\n",
    "plt.xticks(size = 12)\n",
    "plt.xlabel('Borrower Home ownership Status', size = 12)\n",
    "plt.yticks(size = 12)\n",
    "plt.ylabel('Number of Borrowers', size = 12);\n",
    "without_hue(ax,df.IsBorrowerHomeowner);"
   ]
  },
  {
   "cell_type": "markdown",
   "metadata": {},
   "source": [
    "#### Observation.\n",
    "It can be seen that most of the borrowers in the prosper loan system are also homeowners, might be why inventestor feel comforcomfortable investing in them we need to investigate this further.\n",
    "\n",
    "---------------------------------------------------------------------------"
   ]
  },
  {
   "cell_type": "markdown",
   "metadata": {},
   "source": [
    "### Question 2: How often do people invest in their friends listing?"
   ]
  },
  {
   "cell_type": "code",
   "execution_count": 9,
   "metadata": {
    "scrolled": true
   },
   "outputs": [
    {
     "data": {
      "text/html": [
       "<div>\n",
       "<style scoped>\n",
       "    .dataframe tbody tr th:only-of-type {\n",
       "        vertical-align: middle;\n",
       "    }\n",
       "\n",
       "    .dataframe tbody tr th {\n",
       "        vertical-align: top;\n",
       "    }\n",
       "\n",
       "    .dataframe thead th {\n",
       "        text-align: right;\n",
       "    }\n",
       "</style>\n",
       "<table border=\"1\" class=\"dataframe\">\n",
       "  <thead>\n",
       "    <tr style=\"text-align: right;\">\n",
       "      <th></th>\n",
       "      <th>InvestmentFromFriendsCount</th>\n",
       "    </tr>\n",
       "    <tr>\n",
       "      <th>InvestmentFromFriendsCount</th>\n",
       "      <th></th>\n",
       "    </tr>\n",
       "  </thead>\n",
       "  <tbody>\n",
       "    <tr>\n",
       "      <th>0</th>\n",
       "      <td>75739</td>\n",
       "    </tr>\n",
       "    <tr>\n",
       "      <th>1</th>\n",
       "      <td>430</td>\n",
       "    </tr>\n",
       "    <tr>\n",
       "      <th>2</th>\n",
       "      <td>40</td>\n",
       "    </tr>\n",
       "    <tr>\n",
       "      <th>3</th>\n",
       "      <td>8</td>\n",
       "    </tr>\n",
       "    <tr>\n",
       "      <th>4</th>\n",
       "      <td>2</td>\n",
       "    </tr>\n",
       "    <tr>\n",
       "      <th>5</th>\n",
       "      <td>2</td>\n",
       "    </tr>\n",
       "    <tr>\n",
       "      <th>6</th>\n",
       "      <td>2</td>\n",
       "    </tr>\n",
       "    <tr>\n",
       "      <th>9</th>\n",
       "      <td>1</td>\n",
       "    </tr>\n",
       "  </tbody>\n",
       "</table>\n",
       "</div>"
      ],
      "text/plain": [
       "                            InvestmentFromFriendsCount\n",
       "InvestmentFromFriendsCount                            \n",
       "0                                                75739\n",
       "1                                                  430\n",
       "2                                                   40\n",
       "3                                                    8\n",
       "4                                                    2\n",
       "5                                                    2\n",
       "6                                                    2\n",
       "9                                                    1"
      ]
     },
     "execution_count": 9,
     "metadata": {},
     "output_type": "execute_result"
    },
    {
     "data": {
      "image/png": "[encoded data removed]",
      "text/plain": [
       "<Figure size 432x288 with 1 Axes>"
      ]
     },
     "metadata": {
      "needs_background": "light"
     },
     "output_type": "display_data"
    }
   ],
   "source": [
    "df.groupby(['InvestmentFromFriendsCount'])['InvestmentFromFriendsCount'].count().plot(kind='bar', title='Disttribution of Borrowers by Home Ownership')#.set_label(x_label='Number of Borrowers');\n",
    "plt.xlabel('Borrowers Home Ownership Status')\n",
    "plt.ylabel('Number of Borrowers')\n",
    "df.groupby(['InvestmentFromFriendsCount'])[['InvestmentFromFriendsCount']].count()"
   ]
  },
  {
   "cell_type": "markdown",
   "metadata": {},
   "source": [
    "#### Observation\n",
    "We see most of the investments came from non-friends (i.e the 75,739 which is 99% of total listed loans were from non-friend),  could it be that pepeople are more comfortable investing in non-friends than friend? this is a point of further investigations.\n",
    "\n",
    "------------------------------------------"
   ]
  },
  {
   "cell_type": "markdown",
   "metadata": {},
   "source": [
    "### Question 3: What is the distribution of borrowers across the Prosper Risk Scores?"
   ]
  },
  {
   "cell_type": "code",
   "execution_count": 32,
   "metadata": {
    "scrolled": false
   },
   "outputs": [
    {
     "data": {
      "image/png": "[encoded data removed]",
      "text/plain": [
       "<Figure size 1080x360 with 1 Axes>"
      ]
     },
     "metadata": {
      "needs_background": "light"
     },
     "output_type": "display_data"
    }
   ],
   "source": [
    "base_color = sb.color_palette()[0]\n",
    "plt.figure(figsize = (15,5))\n",
    "ax = sb.countplot('ProsperRatingNumeric', data = df, color=base_color)\n",
    "plt.title('Distribution of Borrowers who are Homeowners', size = 12)\n",
    "plt.xticks(size = 12)\n",
    "plt.xlabel('Prosper Borrower Risk Score', size = 12)\n",
    "plt.yticks(size = 12)\n",
    "plt.ylabel('Percentage of Borrowers', size = 12);\n",
    "without_hue(ax,df.ProsperRatingNumeric);"
   ]
  },
  {
   "cell_type": "markdown",
   "metadata": {},
   "source": [
    "#### Observation\n",
    "\n",
    "Could this have any relationtionhip with the Prosper Score?\n",
    "\n",
    "------------------------------"
   ]
  },
  {
   "cell_type": "markdown",
   "metadata": {},
   "source": [
    "### Question 4: What is the distribution of Risky loans to Non-Risky loans?"
   ]
  },
  {
   "cell_type": "code",
   "execution_count": 81,
   "metadata": {
    "scrolled": true
   },
   "outputs": [
    {
     "data": {
      "image/png": "[encoded data removed]",
      "text/plain": [
       "<Figure size 432x288 with 1 Axes>"
      ]
     },
     "metadata": {
      "needs_background": "light"
     },
     "output_type": "display_data"
    }
   ],
   "source": [
    "# Plot chart\n",
    "sb.countplot(data=df, y='ProsperRating (Alpha)', color=base_color);\n"
   ]
  },
  {
   "cell_type": "code",
   "execution_count": 86,
   "metadata": {},
   "outputs": [
    {
     "name": "stdout",
     "output_type": "stream",
     "text": [
      "<class 'pandas.core.frame.DataFrame'>\n",
      "Int64Index: 76224 entries, 1 to 113936\n",
      "Data columns (total 30 columns):\n",
      " #   Column                       Non-Null Count  Dtype  \n",
      "---  ------                       --------------  -----  \n",
      " 0   Term                         76224 non-null  int64  \n",
      " 1   LoanStatus                   76224 non-null  object \n",
      " 2   BorrowerAPR                  76224 non-null  float64\n",
      " 3   BorrowerRate                 76224 non-null  float64\n",
      " 4   ProsperRating (numeric)      76224 non-null  float64\n",
      " 5   ProsperRating (Alpha)        76224 non-null  object \n",
      " 6   ProsperScore                 76224 non-null  float64\n",
      " 7   Occupation                   76224 non-null  object \n",
      " 8   EmploymentStatus             76224 non-null  object \n",
      " 9   IsBorrowerHomeowner          76224 non-null  bool   \n",
      " 10  CurrentlyInGroup             76224 non-null  bool   \n",
      " 11  DateCreditPulled             76224 non-null  object \n",
      " 12  CurrentCreditLines           76224 non-null  float64\n",
      " 13  TotalCreditLinespast7years   76224 non-null  float64\n",
      " 14  TotalInquiries               76224 non-null  float64\n",
      " 15  AmountDelinquent             76224 non-null  float64\n",
      " 16  DelinquenciesLast7Years      76224 non-null  float64\n",
      " 17  AvailableBankcardCredit      76224 non-null  float64\n",
      " 18  DebtToIncomeRatio            76224 non-null  float64\n",
      " 19  IncomeRange                  76224 non-null  object \n",
      " 20  LoanNumber                   76224 non-null  int64  \n",
      " 21  LoanOriginalAmount           76224 non-null  int64  \n",
      " 22  LoanOriginationDate          76224 non-null  object \n",
      " 23  LoanOriginationQuarter       76224 non-null  object \n",
      " 24  MonthlyLoanPayment           76224 non-null  float64\n",
      " 25  PercentFunded                76224 non-null  float64\n",
      " 26  Recommendations              76224 non-null  int64  \n",
      " 27  InvestmentFromFriendsCount   76224 non-null  int64  \n",
      " 28  InvestmentFromFriendsAmount  76224 non-null  float64\n",
      " 29  Investors                    76224 non-null  int64  \n",
      "dtypes: bool(2), float64(14), int64(6), object(8)\n",
      "memory usage: 17.0+ MB\n"
     ]
    }
   ],
   "source": [
    "df.info()"
   ]
  },
  {
   "cell_type": "code",
   "execution_count": 82,
   "metadata": {},
   "outputs": [
    {
     "data": {
      "image/png": "[encoded data removed]",
      "text/plain": [
       "<Figure size 432x288 with 1 Axes>"
      ]
     },
     "metadata": {
      "needs_background": "light"
     },
     "output_type": "display_data"
    }
   ],
   "source": [
    "# Create a new figure\n",
    "fig = plt.figure()\n",
    "\n",
    "bins = np.arange(0, df['PercentFunded'].max()+4, 1)\n",
    "\n",
    "# Generate the x-ticks you want to apply\n",
    "ticks = df['PercentFunded'].unique().tolist()\n",
    "# Convert ticks into string values, to be displaye dlong the x-axis\n",
    "labels = ['{}'.format(v) for v in ticks]\n",
    "\n",
    "\n",
    "# The argument of add_axes represents the dimensions [left, bottom, width, height] of the new axes. \n",
    "# All quantities are in fractions of figure width and height.\n",
    "ax = fig.add_axes([.125, .125, .775, .755])\n",
    "ax.hist(data=df, x='PercentFunded', bins=bins);\n",
    "\n",
    "plt.xlim((0,df['PercentFunded'].max()+.0126));\n",
    "\n",
    "# Apply x-ticks\n",
    "#plt.xticks(ticks, labels);"
   ]
  },
  {
   "cell_type": "code",
   "execution_count": 112,
   "metadata": {},
   "outputs": [
    {
     "data": {
      "image/png": "[encoded data removed]",
      "text/plain": [
       "<Figure size 1440x360 with 2 Axes>"
      ]
     },
     "metadata": {
      "needs_background": "light"
     },
     "output_type": "display_data"
    }
   ],
   "source": [
    "\n",
    "\n",
    "# Axis transformation\n",
    "# Define the figure size\n",
    "plt.figure(figsize = [20, 5])\n",
    "\n",
    "plt.subplot(1, 2, 1)\n",
    "# Bin size\n",
    "bins = 10 ** np.arange(-1, 3+0.1, 0.1)\n",
    "plt.hist(data=df, x='PercentFunded', bins=bins);\n",
    "\n",
    "# The argument in the xscale() represents the axis scale type to apply.\n",
    "# The possible values are: {\"linear\", \"log\", \"symlog\", \"logit\", ...}\n",
    "plt.xscale('log')\n",
    "\n",
    "# Apply Title & x-axis label\n",
    "plt.title('Percent loan Funded')\n",
    "plt.xlabel('x-axis limits are changed, and scaled to log-type')\n",
    "\n",
    "\n",
    "\n",
    "plt.subplot(1, 2, 2)\n",
    "# Bin size\n",
    "bins = 10 ** np.arange(-1, 3+0.1, 0.1)\n",
    "plt.hist(data=df, x='ProsperRating (numeric)', bins=bins);\n",
    "\n",
    "# The argument in the xscale() represents the axis scale type to apply.\n",
    "# The possible values are: {\"linear\", \"log\", \"symlog\", \"logit\", ...}\n",
    "plt.xscale('log')\n",
    "\n",
    "# Apply Title & x-axis label\n",
    "plt.title('Prosper NUmeric Rating')\n",
    "plt.xlabel('x-axis limits are changed, and scaled to log-type');\n",
    "\n"
   ]
  },
  {
   "cell_type": "code",
   "execution_count": 83,
   "metadata": {},
   "outputs": [
    {
     "data": {
      "image/png": "[encoded data removed]",
      "text/plain": [
       "<Figure size 360x360 with 1 Axes>"
      ]
     },
     "metadata": {
      "needs_background": "light"
     },
     "output_type": "display_data"
    }
   ],
   "source": [
    "sb.displot(df['DebtToIncomeRatio'], kind='hist');"
   ]
  },
  {
   "cell_type": "code",
   "execution_count": 100,
   "metadata": {},
   "outputs": [
    {
     "data": {
      "image/png": "[encoded data removed]",
      "text/plain": [
       "<Figure size 1440x360 with 1 Axes>"
      ]
     },
     "metadata": {
      "needs_background": "light"
     },
     "output_type": "display_data"
    },
    {
     "data": {
      "image/png": "[encoded data removed]",
      "text/plain": [
       "<Figure size 360x360 with 1 Axes>"
      ]
     },
     "metadata": {
      "needs_background": "light"
     },
     "output_type": "display_data"
    },
    {
     "data": {
      "image/png": "[encoded data removed]",
      "text/plain": [
       "<Figure size 360x360 with 1 Axes>"
      ]
     },
     "metadata": {
      "needs_background": "light"
     },
     "output_type": "display_data"
    }
   ],
   "source": [
    "# Define the figure size\n",
    "plt.figure(figsize = [20, 5])\n",
    "\n",
    "plt.subplot(1, 2, 1)\n",
    "sb.displot(df['BorrowerRate'], kind='hist');\n",
    "\n",
    "plt.subplot(1, 2, 2)\n",
    "sb.displot(df['BorrowerRate'], kind= 'kde');"
   ]
  },
  {
   "cell_type": "code",
   "execution_count": 105,
   "metadata": {},
   "outputs": [
    {
     "data": {
      "image/png": "[encoded data removed]",
      "text/plain": [
       "<Figure size 360x360 with 1 Axes>"
      ]
     },
     "metadata": {
      "needs_background": "light"
     },
     "output_type": "display_data"
    }
   ],
   "source": [
    "# central plot: kde with narrow bandwidth to show individual probability lumps\n",
    "\n",
    "sb.displot(df['BorrowerRate'], kind= 'kde');"
   ]
  },
  {
   "cell_type": "code",
   "execution_count": 107,
   "metadata": {},
   "outputs": [
    {
     "data": {
      "image/png": "[encoded data removed]",
      "text/plain": [
       "<Figure size 360x360 with 1 Axes>"
      ]
     },
     "metadata": {
      "needs_background": "light"
     },
     "output_type": "display_data"
    }
   ],
   "source": [
    "sb.displot(df['BorrowerRate'], kind='ecdf');"
   ]
  },
  {
   "cell_type": "markdown",
   "metadata": {},
   "source": [
    "\n",
    "\n",
    ">**Rubric Tip**: Visualizations should depict the data appropriately so that the plots are easily interpretable. You should choose an appropriate plot type, data encodings, and formatting as needed. The formatting may include setting/adding the title, labels, legend, and comments. Also, do not overplot or incorrectly plot ordinal data."
   ]
  },
  {
   "cell_type": "code",
   "execution_count": null,
   "metadata": {},
   "outputs": [],
   "source": []
  },
  {
   "cell_type": "markdown",
   "metadata": {},
   "source": [
    "### Discuss the distribution(s) of your variable(s) of interest. Were there any unusual points? Did you need to perform any transformations?\n",
    "\n",
    "> Your answer here!\n",
    "\n",
    "### Of the features you investigated, were there any unusual distributions? Did you perform any operations on the data to tidy, adjust, or change the form of the data? If so, why did you do this?\n",
    "\n",
    "> Your answer here!"
   ]
  },
  {
   "cell_type": "markdown",
   "metadata": {},
   "source": [
    "## Bivariate Exploration\n",
    "\n",
    "> In this section, investigate relationships between pairs of variables in your\n",
    "data. Make sure the variables that you cover here have been introduced in some\n",
    "fashion in the previous section (univariate exploration)."
   ]
  },
  {
   "cell_type": "code",
   "execution_count": null,
   "metadata": {},
   "outputs": [],
   "source": [
    "sns.kdeplot(data=df, x=\"Age\", hue=\"No_show\", multiple=\"stack\",legend=True).set(title='Distribution of patients by Age and appointment status');"
   ]
  },
  {
   "cell_type": "code",
   "execution_count": null,
   "metadata": {},
   "outputs": [],
   "source": [
    "\n",
    "\n",
    "df.groupby(['Age'])['Age'].count().plot(kind='bar',figsize= (25,8), title='Disttribution of Patient by Age').set_ylabel('Number of Patients');\n",
    "df.groupby(['Age'])['Age'].count().max()\n",
    "\n"
   ]
  },
  {
   "cell_type": "code",
   "execution_count": null,
   "metadata": {},
   "outputs": [],
   "source": [
    "#comparing the amount of account owners in both rural and urban areas\n",
    "sb.catplot(data=df, kind=\"count\", x=\"location_type\", hue=\"bank_account\")"
   ]
  },
  {
   "cell_type": "code",
   "execution_count": null,
   "metadata": {},
   "outputs": [],
   "source": [
    "#plotting a bar plot for cellphone users investigation\n",
    "sb.catplot(data=df, kind=\"count\", x=\"cellphone_access\", hue=\"bank_account\")"
   ]
  },
  {
   "cell_type": "code",
   "execution_count": null,
   "metadata": {},
   "outputs": [],
   "source": [
    "#Distinguishing account owners from none account owners with histograms\n",
    "sb.displot(data=df, x=\"household_size\", col=\"bank_account\", kde=True)"
   ]
  },
  {
   "cell_type": "code",
   "execution_count": null,
   "metadata": {},
   "outputs": [],
   "source": [
    "#plotting a density plot for age relating with the bank account variable\n",
    "sb.displot(data=df, x=\"age_of_respondent\", hue=\"bank_account\", multiple=\"stack\", kind=\"kde\")"
   ]
  },
  {
   "cell_type": "code",
   "execution_count": null,
   "metadata": {},
   "outputs": [],
   "source": [
    "#plotting a bivariate bar plot for relationship_with_head investigation\n",
    "sb.catplot(data=df, kind=\"count\", x=\"bank_account\", hue=\"relationship_with_head\")"
   ]
  },
  {
   "cell_type": "code",
   "execution_count": null,
   "metadata": {},
   "outputs": [],
   "source": [
    "#plotting a bar plot for education level users investigation\n",
    "sb.catplot(data=df, kind=\"count\", x=\"bank_account\", hue=\"education_level\")"
   ]
  },
  {
   "cell_type": "markdown",
   "metadata": {},
   "source": [
    "### Talk about some of the relationships you observed in this part of the investigation. How did the feature(s) of interest vary with other features in the dataset?\n",
    "\n",
    "> Your answer here!\n",
    "\n",
    "### Did you observe any interesting relationships between the other features (not the main feature(s) of interest)?\n",
    "\n",
    "> Your answer here!"
   ]
  },
  {
   "cell_type": "markdown",
   "metadata": {},
   "source": [
    "## Multivariate Exploration\n",
    "\n",
    "> Create plots of three or more variables to investigate your data even\n",
    "further. Make sure that your investigations are justified, and follow from\n",
    "your work in the previous sections."
   ]
  },
  {
   "cell_type": "code",
   "execution_count": null,
   "metadata": {},
   "outputs": [],
   "source": []
  },
  {
   "cell_type": "markdown",
   "metadata": {},
   "source": [
    "### Talk about some of the relationships you observed in this part of the investigation. Were there features that strengthened each other in terms of looking at your feature(s) of interest?\n",
    "\n",
    "> Your answer here!\n",
    "\n",
    "### Were there any interesting or surprising interactions between features?\n",
    "\n",
    "> Your answer here!"
   ]
  },
  {
   "cell_type": "markdown",
   "metadata": {},
   "source": [
    "## Conclusions\n",
    ">You can write a summary of the main findings and reflect on the steps taken during the data exploration.\n"
   ]
  },
  {
   "cell_type": "markdown",
   "metadata": {},
   "source": [
    "\n",
    "> Remove all Tips mentioned above, before you convert this notebook to PDF/HTML\n",
    "\n",
    "\n",
    "> At the end of your report, make sure that you export the notebook as an\n",
    "html file from the `File > Download as... > HTML or PDF` menu. Make sure you keep\n",
    "track of where the exported file goes, so you can put it in the same folder\n",
    "as this notebook for project submission. Also, make sure you remove all of\n",
    "the quote-formatted guide notes like this one before you finish your report!\n",
    "\n"
   ]
  },
  {
   "cell_type": "markdown",
   "metadata": {},
   "source": [
    "## Reference\n",
    "\n",
    "1. https://www.prosper.com/\n",
    "2. https://www.investopedia.com/prosper-personal-loans-review-4843741\n",
    "3. https://www.lawinsider.com/dictionary/loan-listing.\n",
    "4. https://www.prosper.com/invest/how-to-invest/prosper-ratings/?mod=article_inline"
   ]
  }
 ],
 "metadata": {
  "kernelspec": {
   "display_name": "Python 3 (ipykernel)",
   "language": "python",
   "name": "python3"
  },
  "language_info": {
   "codemirror_mode": {
    "name": "ipython",
    "version": 3
   },
   "file_extension": ".py",
   "mimetype": "text/x-python",
   "name": "python",
   "nbconvert_exporter": "python",
   "pygments_lexer": "ipython3",
   "version": "3.9.12"
  }
 },
 "nbformat": 4,
 "nbformat_minor": 2
}
