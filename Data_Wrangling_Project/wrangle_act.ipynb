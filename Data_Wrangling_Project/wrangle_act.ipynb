{
 "cells": [
  {
   "cell_type": "markdown",
   "metadata": {
    "extensions": {
     "jupyter_dashboards": {
      "version": 1,
      "views": {
       "grid_default": {
        "col": 0,
        "height": 4,
        "hidden": false,
        "row": 0,
        "width": 4
       },
       "report_default": {
        "hidden": false
       }
      }
     }
    }
   },
   "source": [
    "# Project: Wrangling and Analyze Data"
   ]
  },
  {
   "cell_type": "markdown",
   "metadata": {},
   "source": [
    "## Data Gathering\n",
    "In the cell below, gather **all** three pieces of data for this project and load them in the notebook. **Note:** the methods required to gather each data are different.\n",
    "1. Directly download the WeRateDogs Twitter archive data (twitter_archive_enhanced.csv)"
   ]
  },
  {
   "cell_type": "code",
   "execution_count": null,
   "metadata": {},
   "outputs": [],
   "source": [
    "#Import libraries\n",
    "import pandas as pd\n",
    "import seaborn as sns\n",
    "import numpy as np\n",
    "%matplotlib inline\n",
    "import matplotlib.pyplot as plt\n",
    "import requests\n",
    "import os\n",
    "import json\n",
    "import tweepy\n",
    "from tweepy import OAuthHandler\n",
    "from timeit import default_timer as timer"
   ]
  },
  {
   "cell_type": "code",
   "execution_count": null,
   "metadata": {
    "extensions": {
     "jupyter_dashboards": {
      "version": 1,
      "views": {
       "grid_default": {
        "hidden": true
       },
       "report_default": {
        "hidden": true
       }
      }
     }
    },
    "scrolled": true
   },
   "outputs": [],
   "source": [
    "# read Twitter_archive\n",
    "twitter_archive = pd.read_csv(\"twitter_archive_enhanced.csv\")"
   ]
  },
  {
   "cell_type": "markdown",
   "metadata": {},
   "source": [
    "2. Use the Requests library to download the tweet image prediction (image_predictions.tsv)"
   ]
  },
  {
   "cell_type": "code",
   "execution_count": null,
   "metadata": {},
   "outputs": [],
   "source": [
    "# Download image-predictions.tsv\n",
    "url=\"https://d17h27t6h515a5.cloudfront.net/topher/2017/August/599fd2ad_image-predictions/image-predictions.tsv\"\n",
    "folder = \"C:/Users/HP USER/Desktop/Udacity ALT-X Data Analysis Course/Project 2 Wrangle and Analyze Data\"\n",
    "r = requests.get(url)\n",
    "with open(os.path.join(folder, url.split('/')[-1]), mode = 'wb') as file:\n",
    "        file.write(r.content)"
   ]
  },
  {
   "cell_type": "code",
   "execution_count": null,
   "metadata": {
    "scrolled": true
   },
   "outputs": [],
   "source": [
    "# read Image predictions\n",
    "img_prediction = pd.read_csv('image-predictions.tsv', sep='\\t')"
   ]
  },
  {
   "cell_type": "code",
   "execution_count": null,
   "metadata": {},
   "outputs": [],
   "source": [
    "# NOTE: THIS CODE WILL NOT EXECUTE FOR LACK OF TWITTER DEVELOPER ACCOUNT\n",
    "# Use the Tweepy library to query additional data via the Twitter API (tweet_json.txt)# \n",
    "# Query Twitter API for each tweet in the Twitter archive and save JSON in a text file\n",
    "# These are hidden to comply with Twitter's API terms and conditions\n",
    "consumer_key = 'HIDDEN'\n",
    "consumer_secret = 'HIDDEN'\n",
    "access_token = 'HIDDEN'\n",
    "access_secret = 'HIDDEN'\n",
    "\n",
    "auth = OAuthHandler(consumer_key, consumer_secret)\n",
    "auth.set_access_token(access_token, access_secret)\n",
    "\n",
    "api = tweepy.API(auth, wait_on_rate_limit=True)\n",
    "\n",
    "# NOTE TO STUDENT WITH MOBILE VERIFICATION ISSUES:\n",
    "# df_1 is a DataFrame with the twitter_archive_enhanced.csv file. You may have to\n",
    "# change line 17 to match the name of your DataFrame with twitter_archive_enhanced.csv\n",
    "# NOTE TO REVIEWER: this student had mobile verification issues so the following\n",
    "# Twitter API code was sent to this student from a Udacity instructor\n",
    "# Tweet IDs for which to gather additional data via Twitter's API\n",
    "tweet_ids = twitter_archive.tweet_id.values\n",
    "len(tweet_ids)\n",
    "\n",
    "# Query Twitter's API for JSON data for each tweet ID in the Twitter archive\n",
    "count = 0\n",
    "fails_dict = {}\n",
    "start = timer()\n",
    "# Save each tweet's returned JSON as a new line in a .txt file\n",
    "with open('tweet_json.txt', 'w') as outfile:\n",
    "    # This loop will likely take 20-30 minutes to run because of Twitter's rate limit\n",
    "    for tweet_id in tweet_ids:\n",
    "        count += 1\n",
    "        print(str(count) + \": \" + str(tweet_id))\n",
    "        try:\n",
    "            tweet = api.get_status(tweet_id, tweet_mode='extended')\n",
    "            print(\"Success\")\n",
    "            json.dump(tweet._json, outfile)\n",
    "            outfile.write('\\n')\n",
    "        except tweepy.TweepError as e:\n",
    "            print(\"Fail\")\n",
    "            fails_dict[tweet_id] = e\n",
    "            pass\n",
    "end = timer()\n",
    "print(end - start)\n",
    "print(fails_dict)"
   ]
  },
  {
   "cell_type": "code",
   "execution_count": null,
   "metadata": {
    "scrolled": false
   },
   "outputs": [],
   "source": [
    "with open('tweet_json.txt') as f:\n",
    "    tweet_json = pd.DataFrame(json.loads(line) for line in f)"
   ]
  },
  {
   "cell_type": "markdown",
   "metadata": {
    "extensions": {
     "jupyter_dashboards": {
      "version": 1,
      "views": {
       "grid_default": {
        "col": 4,
        "height": 4,
        "hidden": false,
        "row": 28,
        "width": 4
       },
       "report_default": {
        "hidden": false
       }
      }
     }
    }
   },
   "source": [
    "## Assessing Data"
   ]
  },
  {
   "cell_type": "code",
   "execution_count": null,
   "metadata": {
    "scrolled": true
   },
   "outputs": [],
   "source": [
    "twitter_archive.tail()"
   ]
  },
  {
   "cell_type": "code",
   "execution_count": null,
   "metadata": {
    "scrolled": true
   },
   "outputs": [],
   "source": [
    "img_prediction.head()"
   ]
  },
  {
   "cell_type": "code",
   "execution_count": null,
   "metadata": {
    "scrolled": true
   },
   "outputs": [],
   "source": [
    "tweet_json.head()"
   ]
  },
  {
   "cell_type": "code",
   "execution_count": null,
   "metadata": {},
   "outputs": [],
   "source": [
    "# Check tweet_json shape\n",
    "tweet_json.shape"
   ]
  },
  {
   "cell_type": "code",
   "execution_count": null,
   "metadata": {},
   "outputs": [],
   "source": [
    "# Check tweet_json shape\n",
    "tweet_json.info()"
   ]
  },
  {
   "cell_type": "code",
   "execution_count": null,
   "metadata": {},
   "outputs": [],
   "source": [
    "# Check description of tweet_json\n",
    "tweet_json.describe()"
   ]
  },
  {
   "cell_type": "code",
   "execution_count": null,
   "metadata": {},
   "outputs": [],
   "source": [
    "# null values\n",
    "tweet_json.isnull().sum()"
   ]
  },
  {
   "cell_type": "code",
   "execution_count": null,
   "metadata": {},
   "outputs": [],
   "source": [
    "# Check img_prediction shape\n",
    "img_prediction.shape"
   ]
  },
  {
   "cell_type": "code",
   "execution_count": null,
   "metadata": {},
   "outputs": [],
   "source": [
    "# Check img_prediction shape\n",
    "img_prediction.info()"
   ]
  },
  {
   "cell_type": "code",
   "execution_count": null,
   "metadata": {},
   "outputs": [],
   "source": [
    "# Check description of img_prediction\n",
    "img_prediction.describe()"
   ]
  },
  {
   "cell_type": "code",
   "execution_count": null,
   "metadata": {},
   "outputs": [],
   "source": [
    "# null values\n",
    "img_prediction.isnull().sum()"
   ]
  },
  {
   "cell_type": "code",
   "execution_count": null,
   "metadata": {},
   "outputs": [],
   "source": [
    "# Check twitter_archive shape\n",
    "twitter_archive.shape"
   ]
  },
  {
   "cell_type": "code",
   "execution_count": null,
   "metadata": {},
   "outputs": [],
   "source": [
    "# Check twitter_archive shape\n",
    "twitter_archive.info()"
   ]
  },
  {
   "cell_type": "code",
   "execution_count": null,
   "metadata": {},
   "outputs": [],
   "source": [
    "# Check twitter_archive shape\n",
    "twitter_archive.describe()"
   ]
  },
  {
   "cell_type": "code",
   "execution_count": null,
   "metadata": {},
   "outputs": [],
   "source": [
    "# Check twitter_archive shape\n",
    "twitter_archive.isnull().sum()"
   ]
  },
  {
   "cell_type": "markdown",
   "metadata": {},
   "source": [
    "### Missing values\n",
    "\n",
    "* Missing values in the \"twitter_archive table\".\n",
    "\n",
    "* Missing values in the \"tweet_json table\"."
   ]
  },
  {
   "cell_type": "markdown",
   "metadata": {},
   "source": [
    "### Quality issues\n",
    "\n",
    "1. Unwanted/Irrelevant columns for this analysis (e.g: geo, coordinates, place & contributors, in_reply_to_status_id, in_reply_to_user_id, retweeted_timestamp to datatime, retweeted_status_id and retweeted_user_id)\n",
    "\n",
    "2. Some tweet have no images (i.e Retweets)\n",
    "\n",
    "3. \"timestamp\" and \"retweeted_status_timestamp\" columns are string instead of datetime\n",
    "\n",
    "4. The twitter_archive table contains \"None\" as values.\n",
    "\n",
    "5. The img_predictions table has values that contain underscores.\n",
    "\n",
    "6. The \"source\"  column has HTML tags.\n",
    "\n",
    "7. Dog names in p1, p2 and p3 has inconsistent letter casing.\n",
    "\n",
    "8. Incorrect dtypes for stage and source columns.\n"
   ]
  },
  {
   "cell_type": "markdown",
   "metadata": {
    "extensions": {
     "jupyter_dashboards": {
      "version": 1,
      "views": {
       "grid_default": {
        "col": 0,
        "height": 7,
        "hidden": false,
        "row": 40,
        "width": 12
       },
       "report_default": {
        "hidden": false
       }
      }
     }
    }
   },
   "source": [
    "### Tidiness issues\n",
    "\n",
    "1. The doggo,floofer, pupper and puppo dog stages should be in a single column.\n",
    "2. Merge all three dataframes to one  (twitter_archive_master)."
   ]
  },
  {
   "cell_type": "markdown",
   "metadata": {
    "extensions": {
     "jupyter_dashboards": {
      "version": 1,
      "views": {
       "grid_default": {
        "col": 4,
        "height": 4,
        "hidden": false,
        "row": 32,
        "width": 4
       },
       "report_default": {
        "hidden": false
       }
      }
     }
    }
   },
   "source": [
    "## Cleaning Data"
   ]
  },
  {
   "cell_type": "markdown",
   "metadata": {},
   "source": [
    "### Make copies of original pieces of data\n"
   ]
  },
  {
   "cell_type": "code",
   "execution_count": null,
   "metadata": {},
   "outputs": [],
   "source": [
    "twitter_archiveclean = twitter_archive.copy()"
   ]
  },
  {
   "cell_type": "code",
   "execution_count": null,
   "metadata": {
    "scrolled": true
   },
   "outputs": [],
   "source": [
    "img_predictionclean = img_prediction.copy()"
   ]
  },
  {
   "cell_type": "code",
   "execution_count": null,
   "metadata": {},
   "outputs": [],
   "source": [
    "tweet_jsonclean = tweet_json.copy()"
   ]
  },
  {
   "cell_type": "markdown",
   "metadata": {},
   "source": [
    "## Solutions to Quality Issues"
   ]
  },
  {
   "cell_type": "markdown",
   "metadata": {},
   "source": [
    "### Issue #1: Unwanted/Irrelevant columns for this analysis"
   ]
  },
  {
   "cell_type": "markdown",
   "metadata": {},
   "source": [
    "#### Define"
   ]
  },
  {
   "cell_type": "markdown",
   "metadata": {},
   "source": [
    "* Drop unwanted/irrelevant Columns from all tables"
   ]
  },
  {
   "cell_type": "markdown",
   "metadata": {},
   "source": [
    "#### Code"
   ]
  },
  {
   "cell_type": "code",
   "execution_count": null,
   "metadata": {},
   "outputs": [],
   "source": [
    "twitter_archiveclean = twitter_archiveclean.drop(['retweeted_status_timestamp'], axis=1)\n"
   ]
  },
  {
   "cell_type": "code",
   "execution_count": null,
   "metadata": {},
   "outputs": [],
   "source": [
    "img_predictionclean = img_prediction.drop(['jpg_url', 'img_num'], axis=1)"
   ]
  },
  {
   "cell_type": "code",
   "execution_count": null,
   "metadata": {
    "scrolled": true
   },
   "outputs": [],
   "source": [
    "tweet_jsonclean = tweet_jsonclean.drop(['id_str', 'entities', 'extended_entities','source','in_reply_to_status_id',\n",
    "                                      'in_reply_to_status_id_str','in_reply_to_user_id','in_reply_to_user_id_str',\n",
    "                                     'in_reply_to_screen_name','geo','coordinates','place','contributors','quoted_status','quoted_status_id_str','retweeted_status','quoted_status_id'], axis=1)"
   ]
  },
  {
   "cell_type": "markdown",
   "metadata": {},
   "source": [
    "#### Test"
   ]
  },
  {
   "cell_type": "code",
   "execution_count": null,
   "metadata": {
    "scrolled": true
   },
   "outputs": [],
   "source": [
    "twitter_archiveclean.head(2)"
   ]
  },
  {
   "cell_type": "code",
   "execution_count": null,
   "metadata": {
    "scrolled": false
   },
   "outputs": [],
   "source": [
    "img_predictionclean.head()"
   ]
  },
  {
   "cell_type": "code",
   "execution_count": null,
   "metadata": {
    "scrolled": true
   },
   "outputs": [],
   "source": [
    "tweet_jsonclean.head(2)"
   ]
  },
  {
   "cell_type": "markdown",
   "metadata": {},
   "source": [
    "### Issue #2: Some tweet have no images (i.e Retweets)"
   ]
  },
  {
   "cell_type": "markdown",
   "metadata": {},
   "source": [
    "#### Define"
   ]
  },
  {
   "cell_type": "markdown",
   "metadata": {},
   "source": [
    "* Drop Rows that are Retweets since these are no use."
   ]
  },
  {
   "cell_type": "markdown",
   "metadata": {},
   "source": [
    "#### Code"
   ]
  },
  {
   "cell_type": "code",
   "execution_count": null,
   "metadata": {},
   "outputs": [],
   "source": [
    "twitter_archiveclean.drop(twitter_archive.index[twitter_archive['retweeted_status_id'] >= 1], inplace=True)"
   ]
  },
  {
   "cell_type": "markdown",
   "metadata": {},
   "source": [
    "#### Test"
   ]
  },
  {
   "cell_type": "code",
   "execution_count": null,
   "metadata": {
    "scrolled": false
   },
   "outputs": [],
   "source": [
    "twitter_archiveclean.info()"
   ]
  },
  {
   "cell_type": "markdown",
   "metadata": {},
   "source": [
    "### Issue #3: \"timestamp\" column is a string instead of datetime"
   ]
  },
  {
   "cell_type": "markdown",
   "metadata": {
    "collapsed": true,
    "extensions": {
     "jupyter_dashboards": {
      "version": 1,
      "views": {
       "grid_default": {
        "hidden": true
       },
       "report_default": {
        "hidden": true
       }
      }
     }
    }
   },
   "source": [
    "#### Define"
   ]
  },
  {
   "cell_type": "markdown",
   "metadata": {},
   "source": [
    "* Change timestamp column dtype to datetime"
   ]
  },
  {
   "cell_type": "markdown",
   "metadata": {},
   "source": [
    "#### Code"
   ]
  },
  {
   "cell_type": "code",
   "execution_count": null,
   "metadata": {},
   "outputs": [],
   "source": [
    "twitter_archiveclean['timestamp'] = pd.to_datetime(twitter_archive['timestamp'])"
   ]
  },
  {
   "cell_type": "markdown",
   "metadata": {},
   "source": [
    "#### Test"
   ]
  },
  {
   "cell_type": "code",
   "execution_count": null,
   "metadata": {},
   "outputs": [],
   "source": [
    "twitter_archiveclean.info()"
   ]
  },
  {
   "cell_type": "markdown",
   "metadata": {},
   "source": [
    "### Issue #4: The twitter_archive table contains \"None\" as values."
   ]
  },
  {
   "cell_type": "markdown",
   "metadata": {},
   "source": [
    "#### Define"
   ]
  },
  {
   "cell_type": "markdown",
   "metadata": {},
   "source": [
    "* Use np.nan ro replace all the \"None\" value with NaN in name, doggo, pupper,floffer, puppo columns."
   ]
  },
  {
   "cell_type": "markdown",
   "metadata": {},
   "source": [
    "#### Code"
   ]
  },
  {
   "cell_type": "code",
   "execution_count": null,
   "metadata": {},
   "outputs": [],
   "source": [
    "# replace all None with NAN in tweet_archiveclean dataset\n",
    "twitter_archiveclean.replace('None', np.nan, inplace=True)"
   ]
  },
  {
   "cell_type": "markdown",
   "metadata": {},
   "source": [
    "#### Test"
   ]
  },
  {
   "cell_type": "code",
   "execution_count": null,
   "metadata": {},
   "outputs": [],
   "source": [
    "twitter_archiveclean.head()"
   ]
  },
  {
   "cell_type": "markdown",
   "metadata": {},
   "source": [
    "### Issue #5: The img_predictions table has values that contain underscores."
   ]
  },
  {
   "cell_type": "markdown",
   "metadata": {},
   "source": [
    "#### Define"
   ]
  },
  {
   "cell_type": "markdown",
   "metadata": {},
   "source": [
    "* Remove Underscores from all columns values"
   ]
  },
  {
   "cell_type": "markdown",
   "metadata": {},
   "source": [
    "#### Code"
   ]
  },
  {
   "cell_type": "code",
   "execution_count": null,
   "metadata": {},
   "outputs": [],
   "source": [
    "img_predictionclean =pd.DataFrame(data=img_predictionclean)\n",
    "img_predictionclean.replace(r\"_\",\" \",regex=True, inplace=True)"
   ]
  },
  {
   "cell_type": "markdown",
   "metadata": {},
   "source": [
    "#### Test"
   ]
  },
  {
   "cell_type": "code",
   "execution_count": null,
   "metadata": {},
   "outputs": [],
   "source": [
    "img_predictionclean.head()"
   ]
  },
  {
   "cell_type": "markdown",
   "metadata": {},
   "source": [
    "### Issue #6: The \"source\"  column has HTML tags."
   ]
  },
  {
   "cell_type": "markdown",
   "metadata": {},
   "source": [
    "#### Define"
   ]
  },
  {
   "cell_type": "markdown",
   "metadata": {},
   "source": [
    "* Using regex, remove the html tags from the source column."
   ]
  },
  {
   "cell_type": "markdown",
   "metadata": {},
   "source": [
    "#### Code"
   ]
  },
  {
   "cell_type": "code",
   "execution_count": 61,
   "metadata": {},
   "outputs": [],
   "source": [
    "# removing tags from source and replacing the column with the values extracted\n",
    "twitter_archiveclean.source = twitter_archiveclean.source.str.extract(r'(Vine|TweetDeck|Twitter...........)',expand=True)"
   ]
  },
  {
   "cell_type": "markdown",
   "metadata": {},
   "source": [
    "#### Test"
   ]
  },
  {
   "cell_type": "code",
   "execution_count": 62,
   "metadata": {
    "scrolled": true
   },
   "outputs": [
    {
     "data": {
      "text/plain": [
       "Twitter for iPhone    2042\n",
       "Vine                    91\n",
       "Twitter Web Client      31\n",
       "TweetDeck               11\n",
       "Name: source, dtype: int64"
      ]
     },
     "execution_count": 62,
     "metadata": {},
     "output_type": "execute_result"
    }
   ],
   "source": [
    "twitter_archiveclean['source'].value_counts()"
   ]
  },
  {
   "cell_type": "markdown",
   "metadata": {},
   "source": [
    "### Issue #7: Dog names in p1, p2 and p3 has inconsistent letter casing."
   ]
  },
  {
   "cell_type": "markdown",
   "metadata": {},
   "source": [
    "#### Define"
   ]
  },
  {
   "cell_type": "markdown",
   "metadata": {},
   "source": [
    "* Convert all values in the p1, p2 & p3 columns to Proper case."
   ]
  },
  {
   "cell_type": "markdown",
   "metadata": {},
   "source": [
    "#### Code"
   ]
  },
  {
   "cell_type": "code",
   "execution_count": null,
   "metadata": {},
   "outputs": [],
   "source": [
    "# converting all str in p1,p2 and p3 to lowercase\n",
    "img_predictionclean[\"p1\"] = img_predictionclean[\"p1\"].str.title()\n",
    "img_predictionclean[\"p2\"] = img_predictionclean[\"p2\"].str.title()\n",
    "img_predictionclean[\"p3\"] = img_predictionclean[\"p3\"].str.title()"
   ]
  },
  {
   "cell_type": "markdown",
   "metadata": {},
   "source": [
    "#### Test"
   ]
  },
  {
   "cell_type": "code",
   "execution_count": null,
   "metadata": {},
   "outputs": [],
   "source": [
    "img_predictionclean.head()"
   ]
  },
  {
   "cell_type": "markdown",
   "metadata": {},
   "source": [
    "### Issue #8: Incorrect dtypes for stage and source columns."
   ]
  },
  {
   "cell_type": "markdown",
   "metadata": {},
   "source": [
    "#### Define"
   ]
  },
  {
   "cell_type": "markdown",
   "metadata": {},
   "source": [
    "* Convert the stage and source to category dtypes."
   ]
  },
  {
   "cell_type": "markdown",
   "metadata": {},
   "source": [
    "#### Code"
   ]
  },
  {
   "cell_type": "code",
   "execution_count": null,
   "metadata": {},
   "outputs": [],
   "source": [
    "# Run this code after running the merge column code in Issue 1 under Tidiness Issues.\n",
    "# coverting to best dtypes for tweet_clean\n",
    "twitter_archiveclean.stage = twitter_archiveclean.stage.astype('category')\n",
    "twitter_archiveclean.source = twitter_archiveclean.source.astype('category')"
   ]
  },
  {
   "cell_type": "markdown",
   "metadata": {},
   "source": [
    "#### Test"
   ]
  },
  {
   "cell_type": "code",
   "execution_count": null,
   "metadata": {
    "scrolled": true
   },
   "outputs": [],
   "source": [
    "twitter_archiveclean.info()"
   ]
  },
  {
   "cell_type": "markdown",
   "metadata": {},
   "source": [
    "## Solutions to Tidiness Issues"
   ]
  },
  {
   "cell_type": "markdown",
   "metadata": {},
   "source": [
    "### Issue #1: The doggo, floofer, pupper and puppo dog stages should be in a single column."
   ]
  },
  {
   "cell_type": "markdown",
   "metadata": {},
   "source": [
    "#### Define"
   ]
  },
  {
   "cell_type": "markdown",
   "metadata": {},
   "source": [
    "* Merge the dog stage columns (doggo, pupper and puppo) into a single column called \"stage\"."
   ]
  },
  {
   "cell_type": "markdown",
   "metadata": {},
   "source": [
    "#### Code"
   ]
  },
  {
   "cell_type": "code",
   "execution_count": 58,
   "metadata": {},
   "outputs": [],
   "source": [
    "# Merge the doggo, floofer, pupper and puppo columns into a single column\n",
    "twitter_archiveclean['stage']= twitter_archiveclean[['doggo', 'floofer', 'pupper', \"puppo\"]].apply(lambda x: ','.join(x.dropna().astype(str)), axis=1)"
   ]
  },
  {
   "cell_type": "markdown",
   "metadata": {},
   "source": [
    "#### Test"
   ]
  },
  {
   "cell_type": "code",
   "execution_count": 60,
   "metadata": {},
   "outputs": [
    {
     "data": {
      "text/html": [
       "<div>\n",
       "<style scoped>\n",
       "    .dataframe tbody tr th:only-of-type {\n",
       "        vertical-align: middle;\n",
       "    }\n",
       "\n",
       "    .dataframe tbody tr th {\n",
       "        vertical-align: top;\n",
       "    }\n",
       "\n",
       "    .dataframe thead th {\n",
       "        text-align: right;\n",
       "    }\n",
       "</style>\n",
       "<table border=\"1\" class=\"dataframe\">\n",
       "  <thead>\n",
       "    <tr style=\"text-align: right;\">\n",
       "      <th></th>\n",
       "      <th>tweet_id</th>\n",
       "      <th>in_reply_to_status_id</th>\n",
       "      <th>in_reply_to_user_id</th>\n",
       "      <th>timestamp</th>\n",
       "      <th>source</th>\n",
       "      <th>text</th>\n",
       "      <th>retweeted_status_id</th>\n",
       "      <th>retweeted_status_user_id</th>\n",
       "      <th>retweeted_status_timestamp</th>\n",
       "      <th>expanded_urls</th>\n",
       "      <th>rating_numerator</th>\n",
       "      <th>rating_denominator</th>\n",
       "      <th>name</th>\n",
       "      <th>doggo</th>\n",
       "      <th>floofer</th>\n",
       "      <th>pupper</th>\n",
       "      <th>puppo</th>\n",
       "    </tr>\n",
       "  </thead>\n",
       "  <tbody>\n",
       "    <tr>\n",
       "      <th>0</th>\n",
       "      <td>892420643555336193</td>\n",
       "      <td>NaN</td>\n",
       "      <td>NaN</td>\n",
       "      <td>2017-08-01 16:23:56 +0000</td>\n",
       "      <td>&lt;a href=\"http://twitter.com/download/iphone\" r...</td>\n",
       "      <td>This is Phineas. He's a mystical boy. Only eve...</td>\n",
       "      <td>NaN</td>\n",
       "      <td>NaN</td>\n",
       "      <td>NaN</td>\n",
       "      <td>https://twitter.com/dog_rates/status/892420643...</td>\n",
       "      <td>13</td>\n",
       "      <td>10</td>\n",
       "      <td>Phineas</td>\n",
       "      <td>None</td>\n",
       "      <td>None</td>\n",
       "      <td>None</td>\n",
       "      <td>None</td>\n",
       "    </tr>\n",
       "    <tr>\n",
       "      <th>1</th>\n",
       "      <td>892177421306343426</td>\n",
       "      <td>NaN</td>\n",
       "      <td>NaN</td>\n",
       "      <td>2017-08-01 00:17:27 +0000</td>\n",
       "      <td>&lt;a href=\"http://twitter.com/download/iphone\" r...</td>\n",
       "      <td>This is Tilly. She's just checking pup on you....</td>\n",
       "      <td>NaN</td>\n",
       "      <td>NaN</td>\n",
       "      <td>NaN</td>\n",
       "      <td>https://twitter.com/dog_rates/status/892177421...</td>\n",
       "      <td>13</td>\n",
       "      <td>10</td>\n",
       "      <td>Tilly</td>\n",
       "      <td>None</td>\n",
       "      <td>None</td>\n",
       "      <td>None</td>\n",
       "      <td>None</td>\n",
       "    </tr>\n",
       "    <tr>\n",
       "      <th>2</th>\n",
       "      <td>891815181378084864</td>\n",
       "      <td>NaN</td>\n",
       "      <td>NaN</td>\n",
       "      <td>2017-07-31 00:18:03 +0000</td>\n",
       "      <td>&lt;a href=\"http://twitter.com/download/iphone\" r...</td>\n",
       "      <td>This is Archie. He is a rare Norwegian Pouncin...</td>\n",
       "      <td>NaN</td>\n",
       "      <td>NaN</td>\n",
       "      <td>NaN</td>\n",
       "      <td>https://twitter.com/dog_rates/status/891815181...</td>\n",
       "      <td>12</td>\n",
       "      <td>10</td>\n",
       "      <td>Archie</td>\n",
       "      <td>None</td>\n",
       "      <td>None</td>\n",
       "      <td>None</td>\n",
       "      <td>None</td>\n",
       "    </tr>\n",
       "    <tr>\n",
       "      <th>3</th>\n",
       "      <td>891689557279858688</td>\n",
       "      <td>NaN</td>\n",
       "      <td>NaN</td>\n",
       "      <td>2017-07-30 15:58:51 +0000</td>\n",
       "      <td>&lt;a href=\"http://twitter.com/download/iphone\" r...</td>\n",
       "      <td>This is Darla. She commenced a snooze mid meal...</td>\n",
       "      <td>NaN</td>\n",
       "      <td>NaN</td>\n",
       "      <td>NaN</td>\n",
       "      <td>https://twitter.com/dog_rates/status/891689557...</td>\n",
       "      <td>13</td>\n",
       "      <td>10</td>\n",
       "      <td>Darla</td>\n",
       "      <td>None</td>\n",
       "      <td>None</td>\n",
       "      <td>None</td>\n",
       "      <td>None</td>\n",
       "    </tr>\n",
       "    <tr>\n",
       "      <th>4</th>\n",
       "      <td>891327558926688256</td>\n",
       "      <td>NaN</td>\n",
       "      <td>NaN</td>\n",
       "      <td>2017-07-29 16:00:24 +0000</td>\n",
       "      <td>&lt;a href=\"http://twitter.com/download/iphone\" r...</td>\n",
       "      <td>This is Franklin. He would like you to stop ca...</td>\n",
       "      <td>NaN</td>\n",
       "      <td>NaN</td>\n",
       "      <td>NaN</td>\n",
       "      <td>https://twitter.com/dog_rates/status/891327558...</td>\n",
       "      <td>12</td>\n",
       "      <td>10</td>\n",
       "      <td>Franklin</td>\n",
       "      <td>None</td>\n",
       "      <td>None</td>\n",
       "      <td>None</td>\n",
       "      <td>None</td>\n",
       "    </tr>\n",
       "  </tbody>\n",
       "</table>\n",
       "</div>"
      ],
      "text/plain": [
       "             tweet_id  in_reply_to_status_id  in_reply_to_user_id  \\\n",
       "0  892420643555336193                    NaN                  NaN   \n",
       "1  892177421306343426                    NaN                  NaN   \n",
       "2  891815181378084864                    NaN                  NaN   \n",
       "3  891689557279858688                    NaN                  NaN   \n",
       "4  891327558926688256                    NaN                  NaN   \n",
       "\n",
       "                   timestamp  \\\n",
       "0  2017-08-01 16:23:56 +0000   \n",
       "1  2017-08-01 00:17:27 +0000   \n",
       "2  2017-07-31 00:18:03 +0000   \n",
       "3  2017-07-30 15:58:51 +0000   \n",
       "4  2017-07-29 16:00:24 +0000   \n",
       "\n",
       "                                              source  \\\n",
       "0  <a href=\"http://twitter.com/download/iphone\" r...   \n",
       "1  <a href=\"http://twitter.com/download/iphone\" r...   \n",
       "2  <a href=\"http://twitter.com/download/iphone\" r...   \n",
       "3  <a href=\"http://twitter.com/download/iphone\" r...   \n",
       "4  <a href=\"http://twitter.com/download/iphone\" r...   \n",
       "\n",
       "                                                text  retweeted_status_id  \\\n",
       "0  This is Phineas. He's a mystical boy. Only eve...                  NaN   \n",
       "1  This is Tilly. She's just checking pup on you....                  NaN   \n",
       "2  This is Archie. He is a rare Norwegian Pouncin...                  NaN   \n",
       "3  This is Darla. She commenced a snooze mid meal...                  NaN   \n",
       "4  This is Franklin. He would like you to stop ca...                  NaN   \n",
       "\n",
       "   retweeted_status_user_id retweeted_status_timestamp  \\\n",
       "0                       NaN                        NaN   \n",
       "1                       NaN                        NaN   \n",
       "2                       NaN                        NaN   \n",
       "3                       NaN                        NaN   \n",
       "4                       NaN                        NaN   \n",
       "\n",
       "                                       expanded_urls  rating_numerator  \\\n",
       "0  https://twitter.com/dog_rates/status/892420643...                13   \n",
       "1  https://twitter.com/dog_rates/status/892177421...                13   \n",
       "2  https://twitter.com/dog_rates/status/891815181...                12   \n",
       "3  https://twitter.com/dog_rates/status/891689557...                13   \n",
       "4  https://twitter.com/dog_rates/status/891327558...                12   \n",
       "\n",
       "   rating_denominator      name doggo floofer pupper puppo  \n",
       "0                  10   Phineas  None    None   None  None  \n",
       "1                  10     Tilly  None    None   None  None  \n",
       "2                  10    Archie  None    None   None  None  \n",
       "3                  10     Darla  None    None   None  None  \n",
       "4                  10  Franklin  None    None   None  None  "
      ]
     },
     "execution_count": 60,
     "metadata": {},
     "output_type": "execute_result"
    }
   ],
   "source": [
    "twitter_archive.head()"
   ]
  },
  {
   "cell_type": "code",
   "execution_count": 55,
   "metadata": {
    "scrolled": false
   },
   "outputs": [
    {
     "data": {
      "text/plain": [
       "                 1831\n",
       "pupper            224\n",
       "doggo              75\n",
       "puppo              24\n",
       "doggo,pupper       10\n",
       "floofer             9\n",
       "doggo,puppo         1\n",
       "doggo,floofer       1\n",
       "Name: stage, dtype: int64"
      ]
     },
     "execution_count": 55,
     "metadata": {},
     "output_type": "execute_result"
    }
   ],
   "source": [
    "twitter_archiveclean['stage'].value_counts()"
   ]
  },
  {
   "cell_type": "markdown",
   "metadata": {},
   "source": [
    "### Issue #2: Merge all three cleaned dataframes to one  (twitter_archive_master)."
   ]
  },
  {
   "cell_type": "markdown",
   "metadata": {},
   "source": [
    "#### Define"
   ]
  },
  {
   "cell_type": "markdown",
   "metadata": {},
   "source": [
    "* Merge all cleaned datasets into one single dataset."
   ]
  },
  {
   "cell_type": "markdown",
   "metadata": {},
   "source": [
    "#### Code"
   ]
  },
  {
   "cell_type": "code",
   "execution_count": 89,
   "metadata": {
    "scrolled": true
   },
   "outputs": [],
   "source": [
    "master_df = twitter_archiveclean.merge(img_predictionclean, left_on='tweet_id', right_on='tweet_id')\n",
    "master_df = master_df.merge(tweet_jsonclean, left_on='tweet_id', right_on='id')"
   ]
  },
  {
   "cell_type": "markdown",
   "metadata": {},
   "source": [
    "#### Test"
   ]
  },
  {
   "cell_type": "code",
   "execution_count": 90,
   "metadata": {},
   "outputs": [
    {
     "name": "stdout",
     "output_type": "stream",
     "text": [
      "<class 'pandas.core.frame.DataFrame'>\n",
      "Int64Index: 1994 entries, 0 to 1993\n",
      "Data columns (total 40 columns):\n",
      " #   Column                         Non-Null Count  Dtype              \n",
      "---  ------                         --------------  -----              \n",
      " 0   tweet_id                       1994 non-null   int64              \n",
      " 1   in_reply_to_status_id          23 non-null     float64            \n",
      " 2   in_reply_to_user_id            23 non-null     float64            \n",
      " 3   timestamp                      1994 non-null   datetime64[ns, UTC]\n",
      " 4   source                         1994 non-null   object             \n",
      " 5   text                           1994 non-null   object             \n",
      " 6   retweeted_status_id            0 non-null      float64            \n",
      " 7   retweeted_status_user_id       0 non-null      float64            \n",
      " 8   expanded_urls                  1994 non-null   object             \n",
      " 9   rating_numerator               1994 non-null   int64              \n",
      " 10  rating_denominator             1994 non-null   int64              \n",
      " 11  name                           1448 non-null   object             \n",
      " 12  doggo                          74 non-null     object             \n",
      " 13  floofer                        8 non-null      object             \n",
      " 14  pupper                         212 non-null    object             \n",
      " 15  puppo                          23 non-null     object             \n",
      " 16  stage                          1994 non-null   object             \n",
      " 17  p1                             1994 non-null   object             \n",
      " 18  p1_conf                        1994 non-null   float64            \n",
      " 19  p1_dog                         1994 non-null   bool               \n",
      " 20  p2                             1994 non-null   object             \n",
      " 21  p2_conf                        1994 non-null   float64            \n",
      " 22  p2_dog                         1994 non-null   bool               \n",
      " 23  p3                             1994 non-null   object             \n",
      " 24  p3_conf                        1994 non-null   float64            \n",
      " 25  p3_dog                         1994 non-null   bool               \n",
      " 26  created_at                     1994 non-null   object             \n",
      " 27  id                             1994 non-null   int64              \n",
      " 28  full_text                      1994 non-null   object             \n",
      " 29  truncated                      1994 non-null   bool               \n",
      " 30  display_text_range             1994 non-null   object             \n",
      " 31  user                           1994 non-null   object             \n",
      " 32  is_quote_status                1994 non-null   bool               \n",
      " 33  retweet_count                  1994 non-null   int64              \n",
      " 34  favorite_count                 1994 non-null   int64              \n",
      " 35  favorited                      1994 non-null   bool               \n",
      " 36  retweeted                      1994 non-null   bool               \n",
      " 37  possibly_sensitive             1994 non-null   object             \n",
      " 38  possibly_sensitive_appealable  1994 non-null   object             \n",
      " 39  lang                           1994 non-null   object             \n",
      "dtypes: bool(7), datetime64[ns, UTC](1), float64(7), int64(6), object(19)\n",
      "memory usage: 543.3+ KB\n"
     ]
    }
   ],
   "source": [
    "master_df.info()"
   ]
  },
  {
   "cell_type": "markdown",
   "metadata": {},
   "source": [
    "## Storing Data\n",
    "Save gathered, assessed, and cleaned master dataset to a CSV file named \"twitter_archive_master.csv\"."
   ]
  },
  {
   "cell_type": "code",
   "execution_count": 68,
   "metadata": {},
   "outputs": [],
   "source": [
    "import os.path\n",
    "os.path.exists('twitter_archive_master.csv')\n",
    "master_df.to_csv(r'twitter_archive_master.csv', index=False)"
   ]
  },
  {
   "cell_type": "markdown",
   "metadata": {},
   "source": [
    "## Analyzing and Visualizing Data\n",
    "In this section, analyze and visualize your wrangled data. You must produce at least **three (3) insights and one (1) visualization.**"
   ]
  },
  {
   "cell_type": "code",
   "execution_count": 69,
   "metadata": {},
   "outputs": [],
   "source": [
    "twitter_archive_master = pd.read_csv(\"twitter_archive_master.csv\")"
   ]
  },
  {
   "cell_type": "code",
   "execution_count": 41,
   "metadata": {},
   "outputs": [],
   "source": [
    "import numpy as np\n",
    "import matplotlib.pyplot as plt\n",
    "import seaborn as sns\n",
    "%matplotlib inline"
   ]
  },
  {
   "cell_type": "code",
   "execution_count": 70,
   "metadata": {},
   "outputs": [
    {
     "name": "stdout",
     "output_type": "stream",
     "text": [
      "<class 'pandas.core.frame.DataFrame'>\n",
      "RangeIndex: 1994 entries, 0 to 1993\n",
      "Data columns (total 40 columns):\n",
      " #   Column                         Non-Null Count  Dtype  \n",
      "---  ------                         --------------  -----  \n",
      " 0   tweet_id                       1994 non-null   int64  \n",
      " 1   in_reply_to_status_id          23 non-null     float64\n",
      " 2   in_reply_to_user_id            23 non-null     float64\n",
      " 3   timestamp                      1994 non-null   object \n",
      " 4   source                         1994 non-null   object \n",
      " 5   text                           1994 non-null   object \n",
      " 6   retweeted_status_id            0 non-null      float64\n",
      " 7   retweeted_status_user_id       0 non-null      float64\n",
      " 8   expanded_urls                  1994 non-null   object \n",
      " 9   rating_numerator               1994 non-null   int64  \n",
      " 10  rating_denominator             1994 non-null   int64  \n",
      " 11  name                           1448 non-null   object \n",
      " 12  doggo                          74 non-null     object \n",
      " 13  floofer                        8 non-null      object \n",
      " 14  pupper                         212 non-null    object \n",
      " 15  puppo                          23 non-null     object \n",
      " 16  stage                          306 non-null    object \n",
      " 17  p1                             1994 non-null   object \n",
      " 18  p1_conf                        1994 non-null   float64\n",
      " 19  p1_dog                         1994 non-null   bool   \n",
      " 20  p2                             1994 non-null   object \n",
      " 21  p2_conf                        1994 non-null   float64\n",
      " 22  p2_dog                         1994 non-null   bool   \n",
      " 23  p3                             1994 non-null   object \n",
      " 24  p3_conf                        1994 non-null   float64\n",
      " 25  p3_dog                         1994 non-null   bool   \n",
      " 26  created_at                     1994 non-null   object \n",
      " 27  id                             1994 non-null   int64  \n",
      " 28  full_text                      1994 non-null   object \n",
      " 29  truncated                      1994 non-null   bool   \n",
      " 30  display_text_range             1994 non-null   object \n",
      " 31  user                           1994 non-null   object \n",
      " 32  is_quote_status                1994 non-null   bool   \n",
      " 33  retweet_count                  1994 non-null   int64  \n",
      " 34  favorite_count                 1994 non-null   int64  \n",
      " 35  favorited                      1994 non-null   bool   \n",
      " 36  retweeted                      1994 non-null   bool   \n",
      " 37  possibly_sensitive             1994 non-null   bool   \n",
      " 38  possibly_sensitive_appealable  1994 non-null   bool   \n",
      " 39  lang                           1994 non-null   object \n",
      "dtypes: bool(9), float64(7), int64(6), object(18)\n",
      "memory usage: 500.6+ KB\n"
     ]
    }
   ],
   "source": [
    "twitter_archive_master.info()"
   ]
  },
  {
   "cell_type": "code",
   "execution_count": 71,
   "metadata": {},
   "outputs": [
    {
     "data": {
      "text/plain": [
       "en    1987\n",
       "nl       3\n",
       "in       2\n",
       "eu       1\n",
       "et       1\n",
       "Name: lang, dtype: int64"
      ]
     },
     "execution_count": 71,
     "metadata": {},
     "output_type": "execute_result"
    }
   ],
   "source": [
    "twitter_archive_master[\"lang\"].value_counts()"
   ]
  },
  {
   "cell_type": "code",
   "execution_count": 72,
   "metadata": {},
   "outputs": [
    {
     "data": {
      "text/plain": [
       "139"
      ]
     },
     "execution_count": 72,
     "metadata": {},
     "output_type": "execute_result"
    }
   ],
   "source": [
    "max(twitter_archive_master[\"p1\"].value_counts())"
   ]
  },
  {
   "cell_type": "code",
   "execution_count": 73,
   "metadata": {},
   "outputs": [
    {
     "data": {
      "text/plain": [
       "Golden Retriever      139\n",
       "Labrador Retriever     95\n",
       "Pembroke               88\n",
       "Chihuahua              79\n",
       "Pug                    54\n",
       "                     ... \n",
       "Nail                    1\n",
       "Timber Wolf             1\n",
       "Espresso                1\n",
       "Bib                     1\n",
       "Desktop Computer        1\n",
       "Name: p1, Length: 374, dtype: int64"
      ]
     },
     "execution_count": 73,
     "metadata": {},
     "output_type": "execute_result"
    }
   ],
   "source": [
    "twitter_archive_master[\"p1\"].value_counts()"
   ]
  },
  {
   "cell_type": "code",
   "execution_count": 74,
   "metadata": {},
   "outputs": [
    {
     "data": {
      "text/plain": [
       "False    1994\n",
       "Name: retweeted, dtype: int64"
      ]
     },
     "execution_count": 74,
     "metadata": {},
     "output_type": "execute_result"
    }
   ],
   "source": [
    "twitter_archive_master['retweeted'].value_counts()"
   ]
  },
  {
   "cell_type": "code",
   "execution_count": 75,
   "metadata": {
    "scrolled": true
   },
   "outputs": [
    {
     "data": {
      "text/html": [
       "<div>\n",
       "<style scoped>\n",
       "    .dataframe tbody tr th:only-of-type {\n",
       "        vertical-align: middle;\n",
       "    }\n",
       "\n",
       "    .dataframe tbody tr th {\n",
       "        vertical-align: top;\n",
       "    }\n",
       "\n",
       "    .dataframe thead th {\n",
       "        text-align: right;\n",
       "    }\n",
       "</style>\n",
       "<table border=\"1\" class=\"dataframe\">\n",
       "  <thead>\n",
       "    <tr style=\"text-align: right;\">\n",
       "      <th></th>\n",
       "      <th>tweet_id</th>\n",
       "      <th>in_reply_to_status_id</th>\n",
       "      <th>in_reply_to_user_id</th>\n",
       "      <th>retweeted_status_id</th>\n",
       "      <th>retweeted_status_user_id</th>\n",
       "      <th>rating_numerator</th>\n",
       "      <th>rating_denominator</th>\n",
       "      <th>p1_conf</th>\n",
       "      <th>p2_conf</th>\n",
       "      <th>p3_conf</th>\n",
       "      <th>id</th>\n",
       "      <th>retweet_count</th>\n",
       "      <th>favorite_count</th>\n",
       "    </tr>\n",
       "  </thead>\n",
       "  <tbody>\n",
       "    <tr>\n",
       "      <th>count</th>\n",
       "      <td>1.994000e+03</td>\n",
       "      <td>2.300000e+01</td>\n",
       "      <td>2.300000e+01</td>\n",
       "      <td>0.0</td>\n",
       "      <td>0.0</td>\n",
       "      <td>1994.000000</td>\n",
       "      <td>1994.000000</td>\n",
       "      <td>1994.000000</td>\n",
       "      <td>1.994000e+03</td>\n",
       "      <td>1.994000e+03</td>\n",
       "      <td>1.994000e+03</td>\n",
       "      <td>1994.000000</td>\n",
       "      <td>1994.000000</td>\n",
       "    </tr>\n",
       "    <tr>\n",
       "      <th>mean</th>\n",
       "      <td>7.358508e+17</td>\n",
       "      <td>6.978112e+17</td>\n",
       "      <td>4.196984e+09</td>\n",
       "      <td>NaN</td>\n",
       "      <td>NaN</td>\n",
       "      <td>12.280843</td>\n",
       "      <td>10.532096</td>\n",
       "      <td>0.593941</td>\n",
       "      <td>1.344195e-01</td>\n",
       "      <td>6.024848e-02</td>\n",
       "      <td>7.358508e+17</td>\n",
       "      <td>2766.753260</td>\n",
       "      <td>8895.725677</td>\n",
       "    </tr>\n",
       "    <tr>\n",
       "      <th>std</th>\n",
       "      <td>6.747816e+16</td>\n",
       "      <td>4.359384e+16</td>\n",
       "      <td>0.000000e+00</td>\n",
       "      <td>NaN</td>\n",
       "      <td>NaN</td>\n",
       "      <td>41.497718</td>\n",
       "      <td>7.320710</td>\n",
       "      <td>0.271954</td>\n",
       "      <td>1.006807e-01</td>\n",
       "      <td>5.089067e-02</td>\n",
       "      <td>6.747816e+16</td>\n",
       "      <td>4674.698447</td>\n",
       "      <td>12213.193181</td>\n",
       "    </tr>\n",
       "    <tr>\n",
       "      <th>min</th>\n",
       "      <td>6.660209e+17</td>\n",
       "      <td>6.671522e+17</td>\n",
       "      <td>4.196984e+09</td>\n",
       "      <td>NaN</td>\n",
       "      <td>NaN</td>\n",
       "      <td>0.000000</td>\n",
       "      <td>2.000000</td>\n",
       "      <td>0.044333</td>\n",
       "      <td>1.011300e-08</td>\n",
       "      <td>1.740170e-10</td>\n",
       "      <td>6.660209e+17</td>\n",
       "      <td>16.000000</td>\n",
       "      <td>81.000000</td>\n",
       "    </tr>\n",
       "    <tr>\n",
       "      <th>25%</th>\n",
       "      <td>6.758475e+17</td>\n",
       "      <td>6.732411e+17</td>\n",
       "      <td>4.196984e+09</td>\n",
       "      <td>NaN</td>\n",
       "      <td>NaN</td>\n",
       "      <td>10.000000</td>\n",
       "      <td>10.000000</td>\n",
       "      <td>0.362857</td>\n",
       "      <td>5.393987e-02</td>\n",
       "      <td>1.619283e-02</td>\n",
       "      <td>6.758475e+17</td>\n",
       "      <td>624.750000</td>\n",
       "      <td>1982.000000</td>\n",
       "    </tr>\n",
       "    <tr>\n",
       "      <th>50%</th>\n",
       "      <td>7.084748e+17</td>\n",
       "      <td>6.757073e+17</td>\n",
       "      <td>4.196984e+09</td>\n",
       "      <td>NaN</td>\n",
       "      <td>NaN</td>\n",
       "      <td>11.000000</td>\n",
       "      <td>10.000000</td>\n",
       "      <td>0.587635</td>\n",
       "      <td>1.174550e-01</td>\n",
       "      <td>4.950530e-02</td>\n",
       "      <td>7.084748e+17</td>\n",
       "      <td>1359.500000</td>\n",
       "      <td>4136.000000</td>\n",
       "    </tr>\n",
       "    <tr>\n",
       "      <th>75%</th>\n",
       "      <td>7.877873e+17</td>\n",
       "      <td>7.031489e+17</td>\n",
       "      <td>4.196984e+09</td>\n",
       "      <td>NaN</td>\n",
       "      <td>NaN</td>\n",
       "      <td>12.000000</td>\n",
       "      <td>10.000000</td>\n",
       "      <td>0.846285</td>\n",
       "      <td>1.951377e-01</td>\n",
       "      <td>9.159438e-02</td>\n",
       "      <td>7.877873e+17</td>\n",
       "      <td>3220.000000</td>\n",
       "      <td>11308.000000</td>\n",
       "    </tr>\n",
       "    <tr>\n",
       "      <th>max</th>\n",
       "      <td>8.924206e+17</td>\n",
       "      <td>8.558181e+17</td>\n",
       "      <td>4.196984e+09</td>\n",
       "      <td>NaN</td>\n",
       "      <td>NaN</td>\n",
       "      <td>1776.000000</td>\n",
       "      <td>170.000000</td>\n",
       "      <td>1.000000</td>\n",
       "      <td>4.880140e-01</td>\n",
       "      <td>2.734190e-01</td>\n",
       "      <td>8.924206e+17</td>\n",
       "      <td>79515.000000</td>\n",
       "      <td>132810.000000</td>\n",
       "    </tr>\n",
       "  </tbody>\n",
       "</table>\n",
       "</div>"
      ],
      "text/plain": [
       "           tweet_id  in_reply_to_status_id  in_reply_to_user_id  \\\n",
       "count  1.994000e+03           2.300000e+01         2.300000e+01   \n",
       "mean   7.358508e+17           6.978112e+17         4.196984e+09   \n",
       "std    6.747816e+16           4.359384e+16         0.000000e+00   \n",
       "min    6.660209e+17           6.671522e+17         4.196984e+09   \n",
       "25%    6.758475e+17           6.732411e+17         4.196984e+09   \n",
       "50%    7.084748e+17           6.757073e+17         4.196984e+09   \n",
       "75%    7.877873e+17           7.031489e+17         4.196984e+09   \n",
       "max    8.924206e+17           8.558181e+17         4.196984e+09   \n",
       "\n",
       "       retweeted_status_id  retweeted_status_user_id  rating_numerator  \\\n",
       "count                  0.0                       0.0       1994.000000   \n",
       "mean                   NaN                       NaN         12.280843   \n",
       "std                    NaN                       NaN         41.497718   \n",
       "min                    NaN                       NaN          0.000000   \n",
       "25%                    NaN                       NaN         10.000000   \n",
       "50%                    NaN                       NaN         11.000000   \n",
       "75%                    NaN                       NaN         12.000000   \n",
       "max                    NaN                       NaN       1776.000000   \n",
       "\n",
       "       rating_denominator      p1_conf       p2_conf       p3_conf  \\\n",
       "count         1994.000000  1994.000000  1.994000e+03  1.994000e+03   \n",
       "mean            10.532096     0.593941  1.344195e-01  6.024848e-02   \n",
       "std              7.320710     0.271954  1.006807e-01  5.089067e-02   \n",
       "min              2.000000     0.044333  1.011300e-08  1.740170e-10   \n",
       "25%             10.000000     0.362857  5.393987e-02  1.619283e-02   \n",
       "50%             10.000000     0.587635  1.174550e-01  4.950530e-02   \n",
       "75%             10.000000     0.846285  1.951377e-01  9.159438e-02   \n",
       "max            170.000000     1.000000  4.880140e-01  2.734190e-01   \n",
       "\n",
       "                 id  retweet_count  favorite_count  \n",
       "count  1.994000e+03    1994.000000     1994.000000  \n",
       "mean   7.358508e+17    2766.753260     8895.725677  \n",
       "std    6.747816e+16    4674.698447    12213.193181  \n",
       "min    6.660209e+17      16.000000       81.000000  \n",
       "25%    6.758475e+17     624.750000     1982.000000  \n",
       "50%    7.084748e+17    1359.500000     4136.000000  \n",
       "75%    7.877873e+17    3220.000000    11308.000000  \n",
       "max    8.924206e+17   79515.000000   132810.000000  "
      ]
     },
     "execution_count": 75,
     "metadata": {},
     "output_type": "execute_result"
    }
   ],
   "source": [
    "twitter_archive_master.describe()"
   ]
  },
  {
   "cell_type": "code",
   "execution_count": 76,
   "metadata": {},
   "outputs": [
    {
     "data": {
      "text/html": [
       "<div>\n",
       "<style scoped>\n",
       "    .dataframe tbody tr th:only-of-type {\n",
       "        vertical-align: middle;\n",
       "    }\n",
       "\n",
       "    .dataframe tbody tr th {\n",
       "        vertical-align: top;\n",
       "    }\n",
       "\n",
       "    .dataframe thead th {\n",
       "        text-align: right;\n",
       "    }\n",
       "</style>\n",
       "<table border=\"1\" class=\"dataframe\">\n",
       "  <thead>\n",
       "    <tr style=\"text-align: right;\">\n",
       "      <th></th>\n",
       "      <th>tweet_id</th>\n",
       "      <th>in_reply_to_status_id</th>\n",
       "      <th>in_reply_to_user_id</th>\n",
       "      <th>retweeted_status_id</th>\n",
       "      <th>retweeted_status_user_id</th>\n",
       "      <th>rating_numerator</th>\n",
       "      <th>rating_denominator</th>\n",
       "      <th>p1_conf</th>\n",
       "      <th>p1_dog</th>\n",
       "      <th>p2_conf</th>\n",
       "      <th>...</th>\n",
       "      <th>p3_dog</th>\n",
       "      <th>id</th>\n",
       "      <th>truncated</th>\n",
       "      <th>is_quote_status</th>\n",
       "      <th>retweet_count</th>\n",
       "      <th>favorite_count</th>\n",
       "      <th>favorited</th>\n",
       "      <th>retweeted</th>\n",
       "      <th>possibly_sensitive</th>\n",
       "      <th>possibly_sensitive_appealable</th>\n",
       "    </tr>\n",
       "  </thead>\n",
       "  <tbody>\n",
       "    <tr>\n",
       "      <th>tweet_id</th>\n",
       "      <td>1.000000</td>\n",
       "      <td>0.685117</td>\n",
       "      <td>NaN</td>\n",
       "      <td>NaN</td>\n",
       "      <td>NaN</td>\n",
       "      <td>0.023630</td>\n",
       "      <td>-0.022426</td>\n",
       "      <td>0.106469</td>\n",
       "      <td>0.120656</td>\n",
       "      <td>-0.002557</td>\n",
       "      <td>...</td>\n",
       "      <td>0.097677</td>\n",
       "      <td>1.000000</td>\n",
       "      <td>NaN</td>\n",
       "      <td>NaN</td>\n",
       "      <td>0.405404</td>\n",
       "      <td>0.655276</td>\n",
       "      <td>0.063429</td>\n",
       "      <td>NaN</td>\n",
       "      <td>NaN</td>\n",
       "      <td>NaN</td>\n",
       "    </tr>\n",
       "    <tr>\n",
       "      <th>in_reply_to_status_id</th>\n",
       "      <td>0.685117</td>\n",
       "      <td>1.000000</td>\n",
       "      <td>NaN</td>\n",
       "      <td>NaN</td>\n",
       "      <td>NaN</td>\n",
       "      <td>-0.078811</td>\n",
       "      <td>-0.067949</td>\n",
       "      <td>0.425057</td>\n",
       "      <td>-0.079810</td>\n",
       "      <td>-0.392543</td>\n",
       "      <td>...</td>\n",
       "      <td>0.133557</td>\n",
       "      <td>0.685117</td>\n",
       "      <td>NaN</td>\n",
       "      <td>NaN</td>\n",
       "      <td>0.167515</td>\n",
       "      <td>0.595754</td>\n",
       "      <td>NaN</td>\n",
       "      <td>NaN</td>\n",
       "      <td>NaN</td>\n",
       "      <td>NaN</td>\n",
       "    </tr>\n",
       "    <tr>\n",
       "      <th>in_reply_to_user_id</th>\n",
       "      <td>NaN</td>\n",
       "      <td>NaN</td>\n",
       "      <td>NaN</td>\n",
       "      <td>NaN</td>\n",
       "      <td>NaN</td>\n",
       "      <td>NaN</td>\n",
       "      <td>NaN</td>\n",
       "      <td>NaN</td>\n",
       "      <td>NaN</td>\n",
       "      <td>NaN</td>\n",
       "      <td>...</td>\n",
       "      <td>NaN</td>\n",
       "      <td>NaN</td>\n",
       "      <td>NaN</td>\n",
       "      <td>NaN</td>\n",
       "      <td>NaN</td>\n",
       "      <td>NaN</td>\n",
       "      <td>NaN</td>\n",
       "      <td>NaN</td>\n",
       "      <td>NaN</td>\n",
       "      <td>NaN</td>\n",
       "    </tr>\n",
       "    <tr>\n",
       "      <th>retweeted_status_id</th>\n",
       "      <td>NaN</td>\n",
       "      <td>NaN</td>\n",
       "      <td>NaN</td>\n",
       "      <td>NaN</td>\n",
       "      <td>NaN</td>\n",
       "      <td>NaN</td>\n",
       "      <td>NaN</td>\n",
       "      <td>NaN</td>\n",
       "      <td>NaN</td>\n",
       "      <td>NaN</td>\n",
       "      <td>...</td>\n",
       "      <td>NaN</td>\n",
       "      <td>NaN</td>\n",
       "      <td>NaN</td>\n",
       "      <td>NaN</td>\n",
       "      <td>NaN</td>\n",
       "      <td>NaN</td>\n",
       "      <td>NaN</td>\n",
       "      <td>NaN</td>\n",
       "      <td>NaN</td>\n",
       "      <td>NaN</td>\n",
       "    </tr>\n",
       "    <tr>\n",
       "      <th>retweeted_status_user_id</th>\n",
       "      <td>NaN</td>\n",
       "      <td>NaN</td>\n",
       "      <td>NaN</td>\n",
       "      <td>NaN</td>\n",
       "      <td>NaN</td>\n",
       "      <td>NaN</td>\n",
       "      <td>NaN</td>\n",
       "      <td>NaN</td>\n",
       "      <td>NaN</td>\n",
       "      <td>NaN</td>\n",
       "      <td>...</td>\n",
       "      <td>NaN</td>\n",
       "      <td>NaN</td>\n",
       "      <td>NaN</td>\n",
       "      <td>NaN</td>\n",
       "      <td>NaN</td>\n",
       "      <td>NaN</td>\n",
       "      <td>NaN</td>\n",
       "      <td>NaN</td>\n",
       "      <td>NaN</td>\n",
       "      <td>NaN</td>\n",
       "    </tr>\n",
       "    <tr>\n",
       "      <th>rating_numerator</th>\n",
       "      <td>0.023630</td>\n",
       "      <td>-0.078811</td>\n",
       "      <td>NaN</td>\n",
       "      <td>NaN</td>\n",
       "      <td>NaN</td>\n",
       "      <td>1.000000</td>\n",
       "      <td>0.198240</td>\n",
       "      <td>-0.009049</td>\n",
       "      <td>-0.029150</td>\n",
       "      <td>-0.020724</td>\n",
       "      <td>...</td>\n",
       "      <td>-0.029355</td>\n",
       "      <td>0.023630</td>\n",
       "      <td>NaN</td>\n",
       "      <td>NaN</td>\n",
       "      <td>0.013879</td>\n",
       "      <td>0.009995</td>\n",
       "      <td>0.000144</td>\n",
       "      <td>NaN</td>\n",
       "      <td>NaN</td>\n",
       "      <td>NaN</td>\n",
       "    </tr>\n",
       "    <tr>\n",
       "      <th>rating_denominator</th>\n",
       "      <td>-0.022426</td>\n",
       "      <td>-0.067949</td>\n",
       "      <td>NaN</td>\n",
       "      <td>NaN</td>\n",
       "      <td>NaN</td>\n",
       "      <td>0.198240</td>\n",
       "      <td>1.000000</td>\n",
       "      <td>-0.004240</td>\n",
       "      <td>0.000640</td>\n",
       "      <td>-0.034964</td>\n",
       "      <td>...</td>\n",
       "      <td>0.004695</td>\n",
       "      <td>-0.022426</td>\n",
       "      <td>NaN</td>\n",
       "      <td>NaN</td>\n",
       "      <td>-0.021193</td>\n",
       "      <td>-0.028682</td>\n",
       "      <td>-0.003645</td>\n",
       "      <td>NaN</td>\n",
       "      <td>NaN</td>\n",
       "      <td>NaN</td>\n",
       "    </tr>\n",
       "    <tr>\n",
       "      <th>p1_conf</th>\n",
       "      <td>0.106469</td>\n",
       "      <td>0.425057</td>\n",
       "      <td>NaN</td>\n",
       "      <td>NaN</td>\n",
       "      <td>NaN</td>\n",
       "      <td>-0.009049</td>\n",
       "      <td>-0.004240</td>\n",
       "      <td>1.000000</td>\n",
       "      <td>0.126961</td>\n",
       "      <td>-0.509531</td>\n",
       "      <td>...</td>\n",
       "      <td>0.119391</td>\n",
       "      <td>0.106469</td>\n",
       "      <td>NaN</td>\n",
       "      <td>NaN</td>\n",
       "      <td>0.054591</td>\n",
       "      <td>0.079727</td>\n",
       "      <td>-0.035617</td>\n",
       "      <td>NaN</td>\n",
       "      <td>NaN</td>\n",
       "      <td>NaN</td>\n",
       "    </tr>\n",
       "    <tr>\n",
       "      <th>p1_dog</th>\n",
       "      <td>0.120656</td>\n",
       "      <td>-0.079810</td>\n",
       "      <td>NaN</td>\n",
       "      <td>NaN</td>\n",
       "      <td>NaN</td>\n",
       "      <td>-0.029150</td>\n",
       "      <td>0.000640</td>\n",
       "      <td>0.126961</td>\n",
       "      <td>1.000000</td>\n",
       "      <td>0.109214</td>\n",
       "      <td>...</td>\n",
       "      <td>0.558604</td>\n",
       "      <td>0.120656</td>\n",
       "      <td>NaN</td>\n",
       "      <td>NaN</td>\n",
       "      <td>0.008552</td>\n",
       "      <td>0.054368</td>\n",
       "      <td>-0.016100</td>\n",
       "      <td>NaN</td>\n",
       "      <td>NaN</td>\n",
       "      <td>NaN</td>\n",
       "    </tr>\n",
       "    <tr>\n",
       "      <th>p2_conf</th>\n",
       "      <td>-0.002557</td>\n",
       "      <td>-0.392543</td>\n",
       "      <td>NaN</td>\n",
       "      <td>NaN</td>\n",
       "      <td>NaN</td>\n",
       "      <td>-0.020724</td>\n",
       "      <td>-0.034964</td>\n",
       "      <td>-0.509531</td>\n",
       "      <td>0.109214</td>\n",
       "      <td>1.000000</td>\n",
       "      <td>...</td>\n",
       "      <td>0.063713</td>\n",
       "      <td>-0.002557</td>\n",
       "      <td>NaN</td>\n",
       "      <td>NaN</td>\n",
       "      <td>-0.018472</td>\n",
       "      <td>-0.021680</td>\n",
       "      <td>-0.019817</td>\n",
       "      <td>NaN</td>\n",
       "      <td>NaN</td>\n",
       "      <td>NaN</td>\n",
       "    </tr>\n",
       "    <tr>\n",
       "      <th>p2_dog</th>\n",
       "      <td>0.123795</td>\n",
       "      <td>-0.210564</td>\n",
       "      <td>NaN</td>\n",
       "      <td>NaN</td>\n",
       "      <td>NaN</td>\n",
       "      <td>-0.034601</td>\n",
       "      <td>-0.000709</td>\n",
       "      <td>0.142268</td>\n",
       "      <td>0.635698</td>\n",
       "      <td>0.096064</td>\n",
       "      <td>...</td>\n",
       "      <td>0.554644</td>\n",
       "      <td>0.123795</td>\n",
       "      <td>NaN</td>\n",
       "      <td>NaN</td>\n",
       "      <td>0.016161</td>\n",
       "      <td>0.060189</td>\n",
       "      <td>-0.017334</td>\n",
       "      <td>NaN</td>\n",
       "      <td>NaN</td>\n",
       "      <td>NaN</td>\n",
       "    </tr>\n",
       "    <tr>\n",
       "      <th>p3_conf</th>\n",
       "      <td>-0.049237</td>\n",
       "      <td>-0.341782</td>\n",
       "      <td>NaN</td>\n",
       "      <td>NaN</td>\n",
       "      <td>NaN</td>\n",
       "      <td>-0.004173</td>\n",
       "      <td>0.007071</td>\n",
       "      <td>-0.707994</td>\n",
       "      <td>0.045770</td>\n",
       "      <td>0.480743</td>\n",
       "      <td>...</td>\n",
       "      <td>0.032731</td>\n",
       "      <td>-0.049237</td>\n",
       "      <td>NaN</td>\n",
       "      <td>NaN</td>\n",
       "      <td>-0.044230</td>\n",
       "      <td>-0.053752</td>\n",
       "      <td>-0.011424</td>\n",
       "      <td>NaN</td>\n",
       "      <td>NaN</td>\n",
       "      <td>NaN</td>\n",
       "    </tr>\n",
       "    <tr>\n",
       "      <th>p3_dog</th>\n",
       "      <td>0.097677</td>\n",
       "      <td>0.133557</td>\n",
       "      <td>NaN</td>\n",
       "      <td>NaN</td>\n",
       "      <td>NaN</td>\n",
       "      <td>-0.029355</td>\n",
       "      <td>0.004695</td>\n",
       "      <td>0.119391</td>\n",
       "      <td>0.558604</td>\n",
       "      <td>0.063713</td>\n",
       "      <td>...</td>\n",
       "      <td>1.000000</td>\n",
       "      <td>0.097677</td>\n",
       "      <td>NaN</td>\n",
       "      <td>NaN</td>\n",
       "      <td>0.010015</td>\n",
       "      <td>0.041207</td>\n",
       "      <td>-0.014058</td>\n",
       "      <td>NaN</td>\n",
       "      <td>NaN</td>\n",
       "      <td>NaN</td>\n",
       "    </tr>\n",
       "    <tr>\n",
       "      <th>id</th>\n",
       "      <td>1.000000</td>\n",
       "      <td>0.685117</td>\n",
       "      <td>NaN</td>\n",
       "      <td>NaN</td>\n",
       "      <td>NaN</td>\n",
       "      <td>0.023630</td>\n",
       "      <td>-0.022426</td>\n",
       "      <td>0.106469</td>\n",
       "      <td>0.120656</td>\n",
       "      <td>-0.002557</td>\n",
       "      <td>...</td>\n",
       "      <td>0.097677</td>\n",
       "      <td>1.000000</td>\n",
       "      <td>NaN</td>\n",
       "      <td>NaN</td>\n",
       "      <td>0.405404</td>\n",
       "      <td>0.655276</td>\n",
       "      <td>0.063429</td>\n",
       "      <td>NaN</td>\n",
       "      <td>NaN</td>\n",
       "      <td>NaN</td>\n",
       "    </tr>\n",
       "    <tr>\n",
       "      <th>truncated</th>\n",
       "      <td>NaN</td>\n",
       "      <td>NaN</td>\n",
       "      <td>NaN</td>\n",
       "      <td>NaN</td>\n",
       "      <td>NaN</td>\n",
       "      <td>NaN</td>\n",
       "      <td>NaN</td>\n",
       "      <td>NaN</td>\n",
       "      <td>NaN</td>\n",
       "      <td>NaN</td>\n",
       "      <td>...</td>\n",
       "      <td>NaN</td>\n",
       "      <td>NaN</td>\n",
       "      <td>NaN</td>\n",
       "      <td>NaN</td>\n",
       "      <td>NaN</td>\n",
       "      <td>NaN</td>\n",
       "      <td>NaN</td>\n",
       "      <td>NaN</td>\n",
       "      <td>NaN</td>\n",
       "      <td>NaN</td>\n",
       "    </tr>\n",
       "    <tr>\n",
       "      <th>is_quote_status</th>\n",
       "      <td>NaN</td>\n",
       "      <td>NaN</td>\n",
       "      <td>NaN</td>\n",
       "      <td>NaN</td>\n",
       "      <td>NaN</td>\n",
       "      <td>NaN</td>\n",
       "      <td>NaN</td>\n",
       "      <td>NaN</td>\n",
       "      <td>NaN</td>\n",
       "      <td>NaN</td>\n",
       "      <td>...</td>\n",
       "      <td>NaN</td>\n",
       "      <td>NaN</td>\n",
       "      <td>NaN</td>\n",
       "      <td>NaN</td>\n",
       "      <td>NaN</td>\n",
       "      <td>NaN</td>\n",
       "      <td>NaN</td>\n",
       "      <td>NaN</td>\n",
       "      <td>NaN</td>\n",
       "      <td>NaN</td>\n",
       "    </tr>\n",
       "    <tr>\n",
       "      <th>retweet_count</th>\n",
       "      <td>0.405404</td>\n",
       "      <td>0.167515</td>\n",
       "      <td>NaN</td>\n",
       "      <td>NaN</td>\n",
       "      <td>NaN</td>\n",
       "      <td>0.013879</td>\n",
       "      <td>-0.021193</td>\n",
       "      <td>0.054591</td>\n",
       "      <td>0.008552</td>\n",
       "      <td>-0.018472</td>\n",
       "      <td>...</td>\n",
       "      <td>0.010015</td>\n",
       "      <td>0.405404</td>\n",
       "      <td>NaN</td>\n",
       "      <td>NaN</td>\n",
       "      <td>1.000000</td>\n",
       "      <td>0.912947</td>\n",
       "      <td>0.041291</td>\n",
       "      <td>NaN</td>\n",
       "      <td>NaN</td>\n",
       "      <td>NaN</td>\n",
       "    </tr>\n",
       "    <tr>\n",
       "      <th>favorite_count</th>\n",
       "      <td>0.655276</td>\n",
       "      <td>0.595754</td>\n",
       "      <td>NaN</td>\n",
       "      <td>NaN</td>\n",
       "      <td>NaN</td>\n",
       "      <td>0.009995</td>\n",
       "      <td>-0.028682</td>\n",
       "      <td>0.079727</td>\n",
       "      <td>0.054368</td>\n",
       "      <td>-0.021680</td>\n",
       "      <td>...</td>\n",
       "      <td>0.041207</td>\n",
       "      <td>0.655276</td>\n",
       "      <td>NaN</td>\n",
       "      <td>NaN</td>\n",
       "      <td>0.912947</td>\n",
       "      <td>1.000000</td>\n",
       "      <td>0.074983</td>\n",
       "      <td>NaN</td>\n",
       "      <td>NaN</td>\n",
       "      <td>NaN</td>\n",
       "    </tr>\n",
       "    <tr>\n",
       "      <th>favorited</th>\n",
       "      <td>0.063429</td>\n",
       "      <td>NaN</td>\n",
       "      <td>NaN</td>\n",
       "      <td>NaN</td>\n",
       "      <td>NaN</td>\n",
       "      <td>0.000144</td>\n",
       "      <td>-0.003645</td>\n",
       "      <td>-0.035617</td>\n",
       "      <td>-0.016100</td>\n",
       "      <td>-0.019817</td>\n",
       "      <td>...</td>\n",
       "      <td>-0.014058</td>\n",
       "      <td>0.063429</td>\n",
       "      <td>NaN</td>\n",
       "      <td>NaN</td>\n",
       "      <td>0.041291</td>\n",
       "      <td>0.074983</td>\n",
       "      <td>1.000000</td>\n",
       "      <td>NaN</td>\n",
       "      <td>NaN</td>\n",
       "      <td>NaN</td>\n",
       "    </tr>\n",
       "    <tr>\n",
       "      <th>retweeted</th>\n",
       "      <td>NaN</td>\n",
       "      <td>NaN</td>\n",
       "      <td>NaN</td>\n",
       "      <td>NaN</td>\n",
       "      <td>NaN</td>\n",
       "      <td>NaN</td>\n",
       "      <td>NaN</td>\n",
       "      <td>NaN</td>\n",
       "      <td>NaN</td>\n",
       "      <td>NaN</td>\n",
       "      <td>...</td>\n",
       "      <td>NaN</td>\n",
       "      <td>NaN</td>\n",
       "      <td>NaN</td>\n",
       "      <td>NaN</td>\n",
       "      <td>NaN</td>\n",
       "      <td>NaN</td>\n",
       "      <td>NaN</td>\n",
       "      <td>NaN</td>\n",
       "      <td>NaN</td>\n",
       "      <td>NaN</td>\n",
       "    </tr>\n",
       "    <tr>\n",
       "      <th>possibly_sensitive</th>\n",
       "      <td>NaN</td>\n",
       "      <td>NaN</td>\n",
       "      <td>NaN</td>\n",
       "      <td>NaN</td>\n",
       "      <td>NaN</td>\n",
       "      <td>NaN</td>\n",
       "      <td>NaN</td>\n",
       "      <td>NaN</td>\n",
       "      <td>NaN</td>\n",
       "      <td>NaN</td>\n",
       "      <td>...</td>\n",
       "      <td>NaN</td>\n",
       "      <td>NaN</td>\n",
       "      <td>NaN</td>\n",
       "      <td>NaN</td>\n",
       "      <td>NaN</td>\n",
       "      <td>NaN</td>\n",
       "      <td>NaN</td>\n",
       "      <td>NaN</td>\n",
       "      <td>NaN</td>\n",
       "      <td>NaN</td>\n",
       "    </tr>\n",
       "    <tr>\n",
       "      <th>possibly_sensitive_appealable</th>\n",
       "      <td>NaN</td>\n",
       "      <td>NaN</td>\n",
       "      <td>NaN</td>\n",
       "      <td>NaN</td>\n",
       "      <td>NaN</td>\n",
       "      <td>NaN</td>\n",
       "      <td>NaN</td>\n",
       "      <td>NaN</td>\n",
       "      <td>NaN</td>\n",
       "      <td>NaN</td>\n",
       "      <td>...</td>\n",
       "      <td>NaN</td>\n",
       "      <td>NaN</td>\n",
       "      <td>NaN</td>\n",
       "      <td>NaN</td>\n",
       "      <td>NaN</td>\n",
       "      <td>NaN</td>\n",
       "      <td>NaN</td>\n",
       "      <td>NaN</td>\n",
       "      <td>NaN</td>\n",
       "      <td>NaN</td>\n",
       "    </tr>\n",
       "  </tbody>\n",
       "</table>\n",
       "<p>22 rows × 22 columns</p>\n",
       "</div>"
      ],
      "text/plain": [
       "                               tweet_id  in_reply_to_status_id  \\\n",
       "tweet_id                       1.000000               0.685117   \n",
       "in_reply_to_status_id          0.685117               1.000000   \n",
       "in_reply_to_user_id                 NaN                    NaN   \n",
       "retweeted_status_id                 NaN                    NaN   \n",
       "retweeted_status_user_id            NaN                    NaN   \n",
       "rating_numerator               0.023630              -0.078811   \n",
       "rating_denominator            -0.022426              -0.067949   \n",
       "p1_conf                        0.106469               0.425057   \n",
       "p1_dog                         0.120656              -0.079810   \n",
       "p2_conf                       -0.002557              -0.392543   \n",
       "p2_dog                         0.123795              -0.210564   \n",
       "p3_conf                       -0.049237              -0.341782   \n",
       "p3_dog                         0.097677               0.133557   \n",
       "id                             1.000000               0.685117   \n",
       "truncated                           NaN                    NaN   \n",
       "is_quote_status                     NaN                    NaN   \n",
       "retweet_count                  0.405404               0.167515   \n",
       "favorite_count                 0.655276               0.595754   \n",
       "favorited                      0.063429                    NaN   \n",
       "retweeted                           NaN                    NaN   \n",
       "possibly_sensitive                  NaN                    NaN   \n",
       "possibly_sensitive_appealable       NaN                    NaN   \n",
       "\n",
       "                               in_reply_to_user_id  retweeted_status_id  \\\n",
       "tweet_id                                       NaN                  NaN   \n",
       "in_reply_to_status_id                          NaN                  NaN   \n",
       "in_reply_to_user_id                            NaN                  NaN   \n",
       "retweeted_status_id                            NaN                  NaN   \n",
       "retweeted_status_user_id                       NaN                  NaN   \n",
       "rating_numerator                               NaN                  NaN   \n",
       "rating_denominator                             NaN                  NaN   \n",
       "p1_conf                                        NaN                  NaN   \n",
       "p1_dog                                         NaN                  NaN   \n",
       "p2_conf                                        NaN                  NaN   \n",
       "p2_dog                                         NaN                  NaN   \n",
       "p3_conf                                        NaN                  NaN   \n",
       "p3_dog                                         NaN                  NaN   \n",
       "id                                             NaN                  NaN   \n",
       "truncated                                      NaN                  NaN   \n",
       "is_quote_status                                NaN                  NaN   \n",
       "retweet_count                                  NaN                  NaN   \n",
       "favorite_count                                 NaN                  NaN   \n",
       "favorited                                      NaN                  NaN   \n",
       "retweeted                                      NaN                  NaN   \n",
       "possibly_sensitive                             NaN                  NaN   \n",
       "possibly_sensitive_appealable                  NaN                  NaN   \n",
       "\n",
       "                               retweeted_status_user_id  rating_numerator  \\\n",
       "tweet_id                                            NaN          0.023630   \n",
       "in_reply_to_status_id                               NaN         -0.078811   \n",
       "in_reply_to_user_id                                 NaN               NaN   \n",
       "retweeted_status_id                                 NaN               NaN   \n",
       "retweeted_status_user_id                            NaN               NaN   \n",
       "rating_numerator                                    NaN          1.000000   \n",
       "rating_denominator                                  NaN          0.198240   \n",
       "p1_conf                                             NaN         -0.009049   \n",
       "p1_dog                                              NaN         -0.029150   \n",
       "p2_conf                                             NaN         -0.020724   \n",
       "p2_dog                                              NaN         -0.034601   \n",
       "p3_conf                                             NaN         -0.004173   \n",
       "p3_dog                                              NaN         -0.029355   \n",
       "id                                                  NaN          0.023630   \n",
       "truncated                                           NaN               NaN   \n",
       "is_quote_status                                     NaN               NaN   \n",
       "retweet_count                                       NaN          0.013879   \n",
       "favorite_count                                      NaN          0.009995   \n",
       "favorited                                           NaN          0.000144   \n",
       "retweeted                                           NaN               NaN   \n",
       "possibly_sensitive                                  NaN               NaN   \n",
       "possibly_sensitive_appealable                       NaN               NaN   \n",
       "\n",
       "                               rating_denominator   p1_conf    p1_dog  \\\n",
       "tweet_id                                -0.022426  0.106469  0.120656   \n",
       "in_reply_to_status_id                   -0.067949  0.425057 -0.079810   \n",
       "in_reply_to_user_id                           NaN       NaN       NaN   \n",
       "retweeted_status_id                           NaN       NaN       NaN   \n",
       "retweeted_status_user_id                      NaN       NaN       NaN   \n",
       "rating_numerator                         0.198240 -0.009049 -0.029150   \n",
       "rating_denominator                       1.000000 -0.004240  0.000640   \n",
       "p1_conf                                 -0.004240  1.000000  0.126961   \n",
       "p1_dog                                   0.000640  0.126961  1.000000   \n",
       "p2_conf                                 -0.034964 -0.509531  0.109214   \n",
       "p2_dog                                  -0.000709  0.142268  0.635698   \n",
       "p3_conf                                  0.007071 -0.707994  0.045770   \n",
       "p3_dog                                   0.004695  0.119391  0.558604   \n",
       "id                                      -0.022426  0.106469  0.120656   \n",
       "truncated                                     NaN       NaN       NaN   \n",
       "is_quote_status                               NaN       NaN       NaN   \n",
       "retweet_count                           -0.021193  0.054591  0.008552   \n",
       "favorite_count                          -0.028682  0.079727  0.054368   \n",
       "favorited                               -0.003645 -0.035617 -0.016100   \n",
       "retweeted                                     NaN       NaN       NaN   \n",
       "possibly_sensitive                            NaN       NaN       NaN   \n",
       "possibly_sensitive_appealable                 NaN       NaN       NaN   \n",
       "\n",
       "                                p2_conf  ...    p3_dog        id  truncated  \\\n",
       "tweet_id                      -0.002557  ...  0.097677  1.000000        NaN   \n",
       "in_reply_to_status_id         -0.392543  ...  0.133557  0.685117        NaN   \n",
       "in_reply_to_user_id                 NaN  ...       NaN       NaN        NaN   \n",
       "retweeted_status_id                 NaN  ...       NaN       NaN        NaN   \n",
       "retweeted_status_user_id            NaN  ...       NaN       NaN        NaN   \n",
       "rating_numerator              -0.020724  ... -0.029355  0.023630        NaN   \n",
       "rating_denominator            -0.034964  ...  0.004695 -0.022426        NaN   \n",
       "p1_conf                       -0.509531  ...  0.119391  0.106469        NaN   \n",
       "p1_dog                         0.109214  ...  0.558604  0.120656        NaN   \n",
       "p2_conf                        1.000000  ...  0.063713 -0.002557        NaN   \n",
       "p2_dog                         0.096064  ...  0.554644  0.123795        NaN   \n",
       "p3_conf                        0.480743  ...  0.032731 -0.049237        NaN   \n",
       "p3_dog                         0.063713  ...  1.000000  0.097677        NaN   \n",
       "id                            -0.002557  ...  0.097677  1.000000        NaN   \n",
       "truncated                           NaN  ...       NaN       NaN        NaN   \n",
       "is_quote_status                     NaN  ...       NaN       NaN        NaN   \n",
       "retweet_count                 -0.018472  ...  0.010015  0.405404        NaN   \n",
       "favorite_count                -0.021680  ...  0.041207  0.655276        NaN   \n",
       "favorited                     -0.019817  ... -0.014058  0.063429        NaN   \n",
       "retweeted                           NaN  ...       NaN       NaN        NaN   \n",
       "possibly_sensitive                  NaN  ...       NaN       NaN        NaN   \n",
       "possibly_sensitive_appealable       NaN  ...       NaN       NaN        NaN   \n",
       "\n",
       "                               is_quote_status  retweet_count  favorite_count  \\\n",
       "tweet_id                                   NaN       0.405404        0.655276   \n",
       "in_reply_to_status_id                      NaN       0.167515        0.595754   \n",
       "in_reply_to_user_id                        NaN            NaN             NaN   \n",
       "retweeted_status_id                        NaN            NaN             NaN   \n",
       "retweeted_status_user_id                   NaN            NaN             NaN   \n",
       "rating_numerator                           NaN       0.013879        0.009995   \n",
       "rating_denominator                         NaN      -0.021193       -0.028682   \n",
       "p1_conf                                    NaN       0.054591        0.079727   \n",
       "p1_dog                                     NaN       0.008552        0.054368   \n",
       "p2_conf                                    NaN      -0.018472       -0.021680   \n",
       "p2_dog                                     NaN       0.016161        0.060189   \n",
       "p3_conf                                    NaN      -0.044230       -0.053752   \n",
       "p3_dog                                     NaN       0.010015        0.041207   \n",
       "id                                         NaN       0.405404        0.655276   \n",
       "truncated                                  NaN            NaN             NaN   \n",
       "is_quote_status                            NaN            NaN             NaN   \n",
       "retweet_count                              NaN       1.000000        0.912947   \n",
       "favorite_count                             NaN       0.912947        1.000000   \n",
       "favorited                                  NaN       0.041291        0.074983   \n",
       "retweeted                                  NaN            NaN             NaN   \n",
       "possibly_sensitive                         NaN            NaN             NaN   \n",
       "possibly_sensitive_appealable              NaN            NaN             NaN   \n",
       "\n",
       "                               favorited  retweeted  possibly_sensitive  \\\n",
       "tweet_id                        0.063429        NaN                 NaN   \n",
       "in_reply_to_status_id                NaN        NaN                 NaN   \n",
       "in_reply_to_user_id                  NaN        NaN                 NaN   \n",
       "retweeted_status_id                  NaN        NaN                 NaN   \n",
       "retweeted_status_user_id             NaN        NaN                 NaN   \n",
       "rating_numerator                0.000144        NaN                 NaN   \n",
       "rating_denominator             -0.003645        NaN                 NaN   \n",
       "p1_conf                        -0.035617        NaN                 NaN   \n",
       "p1_dog                         -0.016100        NaN                 NaN   \n",
       "p2_conf                        -0.019817        NaN                 NaN   \n",
       "p2_dog                         -0.017334        NaN                 NaN   \n",
       "p3_conf                        -0.011424        NaN                 NaN   \n",
       "p3_dog                         -0.014058        NaN                 NaN   \n",
       "id                              0.063429        NaN                 NaN   \n",
       "truncated                            NaN        NaN                 NaN   \n",
       "is_quote_status                      NaN        NaN                 NaN   \n",
       "retweet_count                   0.041291        NaN                 NaN   \n",
       "favorite_count                  0.074983        NaN                 NaN   \n",
       "favorited                       1.000000        NaN                 NaN   \n",
       "retweeted                            NaN        NaN                 NaN   \n",
       "possibly_sensitive                   NaN        NaN                 NaN   \n",
       "possibly_sensitive_appealable        NaN        NaN                 NaN   \n",
       "\n",
       "                               possibly_sensitive_appealable  \n",
       "tweet_id                                                 NaN  \n",
       "in_reply_to_status_id                                    NaN  \n",
       "in_reply_to_user_id                                      NaN  \n",
       "retweeted_status_id                                      NaN  \n",
       "retweeted_status_user_id                                 NaN  \n",
       "rating_numerator                                         NaN  \n",
       "rating_denominator                                       NaN  \n",
       "p1_conf                                                  NaN  \n",
       "p1_dog                                                   NaN  \n",
       "p2_conf                                                  NaN  \n",
       "p2_dog                                                   NaN  \n",
       "p3_conf                                                  NaN  \n",
       "p3_dog                                                   NaN  \n",
       "id                                                       NaN  \n",
       "truncated                                                NaN  \n",
       "is_quote_status                                          NaN  \n",
       "retweet_count                                            NaN  \n",
       "favorite_count                                           NaN  \n",
       "favorited                                                NaN  \n",
       "retweeted                                                NaN  \n",
       "possibly_sensitive                                       NaN  \n",
       "possibly_sensitive_appealable                            NaN  \n",
       "\n",
       "[22 rows x 22 columns]"
      ]
     },
     "execution_count": 76,
     "metadata": {},
     "output_type": "execute_result"
    }
   ],
   "source": [
    "# Check for Corrolation\n",
    "twitter_archive_master.corr()"
   ]
  },
  {
   "cell_type": "markdown",
   "metadata": {},
   "source": [
    "### Insights:\n",
    "\n",
    "1. Most Tweets (1,987) are wriiten in English.\n",
    "\n",
    "2. There are more Golden Retriever dog bread (139) than other bread. \n",
    "\n",
    "3. All 1,994 are were not reweeted.\n",
    "\n",
    "4. Rating numerator and denominator have maximum values of 1776 and 170 respectively.\n"
   ]
  },
  {
   "cell_type": "markdown",
   "metadata": {
    "collapsed": true
   },
   "source": [
    "### Visualization"
   ]
  },
  {
   "cell_type": "code",
   "execution_count": 77,
   "metadata": {},
   "outputs": [
    {
     "data": {
      "text/plain": [
       "timestamp\n",
       "Friday       290\n",
       "Monday       321\n",
       "Saturday     266\n",
       "Sunday       245\n",
       "Thursday     272\n",
       "Tuesday      299\n",
       "Wednesday    301\n",
       "Name: timestamp, dtype: int64"
      ]
     },
     "execution_count": 77,
     "metadata": {},
     "output_type": "execute_result"
    },
    {
     "data": {
      "image/png": "[encoded data removed]",
      "text/plain": [
       "<Figure size 1080x576 with 1 Axes>"
      ]
     },
     "metadata": {
      "needs_background": "light"
     },
     "output_type": "display_data"
    }
   ],
   "source": [
    "twitter_archive_master['timestamp'] = pd.to_datetime(twitter_archive['timestamp'])\n",
    "weekdays = twitter_archive_master['timestamp'].dt.day_name() #get the week day name of each scheduled date\n",
    "twitter_archive_master.groupby(weekdays)['timestamp'].count().plot(kind='bar',  figsize= (15,8), title='Distribution of Tweets by days of the Week').set(xlabel=\"Days of the Week\", ylabel=\"Number of Tweets\");\n",
    "twitter_archive_master.groupby(weekdays)['timestamp'].count()"
   ]
  },
  {
   "cell_type": "markdown",
   "metadata": {},
   "source": [
    "1. Most Tweets are made on Mondays."
   ]
  },
  {
   "cell_type": "code",
   "execution_count": 78,
   "metadata": {
    "scrolled": true
   },
   "outputs": [
    {
     "data": {
      "text/plain": [
       "284.85714285714283"
      ]
     },
     "execution_count": 78,
     "metadata": {},
     "output_type": "execute_result"
    }
   ],
   "source": [
    "twitter_archive_master.groupby(weekdays)['timestamp'].count().mean()"
   ]
  },
  {
   "cell_type": "code",
   "execution_count": 79,
   "metadata": {},
   "outputs": [
    {
     "data": {
      "text/plain": [
       "pupper           203\n",
       "doggo             63\n",
       "puppo             22\n",
       "doggo,pupper       9\n",
       "floofer            7\n",
       "doggo,puppo        1\n",
       "doggo,floofer      1\n",
       "Name: stage, dtype: int64"
      ]
     },
     "execution_count": 79,
     "metadata": {},
     "output_type": "execute_result"
    }
   ],
   "source": [
    "twitter_archive_master.stage.value_counts()"
   ]
  },
  {
   "cell_type": "code",
   "execution_count": 88,
   "metadata": {},
   "outputs": [
    {
     "data": {
      "image/png": "[encoded data removed]",
      "text/plain": [
       "<Figure size 432x288 with 1 Axes>"
      ]
     },
     "metadata": {
      "needs_background": "light"
     },
     "output_type": "display_data"
    }
   ],
   "source": [
    "# plot for the count\n",
    "sns.countplot(y=twitter_archive_master.stage, order=twitter_archive_master.stage.value_counts().index)\n",
    "plt.title('Dogs Maturity Stages');"
   ]
  }
 ],
 "metadata": {
  "extensions": {
   "jupyter_dashboards": {
    "activeView": "report_default",
    "version": 1,
    "views": {
     "grid_default": {
      "cellMargin": 10,
      "defaultCellHeight": 20,
      "maxColumns": 12,
      "name": "grid",
      "type": "grid"
     },
     "report_default": {
      "name": "report",
      "type": "report"
     }
    }
   }
  },
  "kernelspec": {
   "display_name": "Python 3 (ipykernel)",
   "language": "python",
   "name": "python3"
  },
  "language_info": {
   "codemirror_mode": {
    "name": "ipython",
    "version": 3
   },
   "file_extension": ".py",
   "mimetype": "text/x-python",
   "name": "python",
   "nbconvert_exporter": "python",
   "pygments_lexer": "ipython3",
   "version": "3.9.12"
  }
 },
 "nbformat": 4,
 "nbformat_minor": 2
}
